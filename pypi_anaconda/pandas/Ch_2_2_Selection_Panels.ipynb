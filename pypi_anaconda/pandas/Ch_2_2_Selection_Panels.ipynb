{
 "cells": [
  {
   "cell_type": "code",
   "execution_count": 1,
   "metadata": {
    "collapsed": true
   },
   "outputs": [],
   "source": [
    "\"\"\"\n",
    "Chapter_2_2. Selection_Panels(from pandas Cookbook)\n",
    "参考\n",
    "https://pandas.pydata.org/pandas-docs/stable/cookbook.html\n",
    "\"\"\"\n",
    "import numpy as np\n",
    "import pandas as pd"
   ]
  },
  {
   "cell_type": "code",
   "execution_count": 2,
   "metadata": {},
   "outputs": [
    {
     "name": "stdout",
     "output_type": "stream",
     "text": [
      "DatetimeIndex(['2013-01-01', '2013-01-02', '2013-01-03', '2013-01-04',\n",
      "               '2013-01-05', '2013-01-06', '2013-01-07', '2013-01-08',\n",
      "               '2013-01-09', '2013-01-10'],\n",
      "              dtype='datetime64[ns]', freq='D')\n"
     ]
    }
   ],
   "source": [
    "rng = pd.date_range('1/1/2013',periods=100,freq='D')\n",
    "print(rng[0:10])"
   ]
  },
  {
   "cell_type": "code",
   "execution_count": 3,
   "metadata": {},
   "outputs": [
    {
     "name": "stdout",
     "output_type": "stream",
     "text": [
      "(100, 4)\n",
      "[[-2.03186844 -1.22497402 -0.86048789  1.12364015]\n",
      " [-0.70128929  1.53827123  2.97844334  0.77211115]]\n"
     ]
    }
   ],
   "source": [
    "data = np.random.randn(100, 4)\n",
    "print(data.shape)\n",
    "print(data[0:2,:])"
   ]
  },
  {
   "cell_type": "code",
   "execution_count": 4,
   "metadata": {},
   "outputs": [
    {
     "name": "stdout",
     "output_type": "stream",
     "text": [
      "                   A         B         C         D\n",
      "2013-01-01 -2.031868 -1.224974 -0.860488  1.123640\n",
      "2013-01-02 -0.701289  1.538271  2.978443  0.772111\n",
      "2013-01-03 -2.617831  0.678383 -0.230706 -0.059920\n",
      "2013-01-04 -0.868980  0.760663 -0.549467 -0.669064\n",
      "2013-01-05 -0.064614  1.128966  0.382420  0.184860\n",
      "2013-01-06 -0.596262 -1.736580 -1.221369 -0.682678\n",
      "2013-01-07 -2.651364 -0.410572  0.679991 -0.247139\n",
      "2013-01-08 -0.771320  0.536476 -0.735186 -0.477729\n",
      "2013-01-09  0.708983  0.267033  0.823900 -0.610398\n",
      "2013-01-10 -1.200233 -0.058391 -1.677819 -0.918774\n"
     ]
    }
   ],
   "source": [
    "cols = ['A','B','C','D']\n",
    "df1, df2, df3 = pd.DataFrame(data, rng, cols), pd.DataFrame(data, rng, cols), pd.DataFrame(data, rng, cols)\n",
    "\n",
    "print(df1[0:10])"
   ]
  },
  {
   "cell_type": "code",
   "execution_count": 5,
   "metadata": {},
   "outputs": [
    {
     "name": "stdout",
     "output_type": "stream",
     "text": [
      "<class 'pandas.core.panel.Panel'>\n",
      "Dimensions: 3 (items) x 100 (major_axis) x 4 (minor_axis)\n",
      "Items axis: df1 to df3\n",
      "Major_axis axis: 2013-01-01 00:00:00 to 2013-04-10 00:00:00\n",
      "Minor_axis axis: A to D\n"
     ]
    }
   ],
   "source": [
    "pf = pd.Panel({'df1':df1,'df2':df2,'df3':df3})\n",
    "print(pf)"
   ]
  },
  {
   "cell_type": "code",
   "execution_count": 6,
   "metadata": {},
   "outputs": [
    {
     "name": "stdout",
     "output_type": "stream",
     "text": [
      "                   A         B         C         D\n",
      "2013-01-01 -2.031868 -1.224974 -0.860488  1.123640\n",
      "2013-01-02 -0.701289  1.538271  2.978443  0.772111\n",
      "2013-01-03 -2.617831  0.678383 -0.230706 -0.059920\n",
      "2013-01-04 -0.868980  0.760663 -0.549467 -0.669064\n",
      "2013-01-05 -0.064614  1.128966  0.382420  0.184860\n",
      "2013-01-06 -0.596262 -1.736580 -1.221369 -0.682678\n",
      "2013-01-07 -2.651364 -0.410572  0.679991 -0.247139\n",
      "2013-01-08 -0.771320  0.536476 -0.735186 -0.477729\n",
      "2013-01-09  0.708983  0.267033  0.823900 -0.610398\n",
      "2013-01-10 -1.200233 -0.058391 -1.677819 -0.918774\n"
     ]
    }
   ],
   "source": [
    "print(pd.DataFrame(data, rng, cols)[0:10])"
   ]
  },
  {
   "cell_type": "code",
   "execution_count": null,
   "metadata": {
    "collapsed": true
   },
   "outputs": [],
   "source": []
  }
 ],
 "metadata": {
  "kernelspec": {
   "display_name": "Python 3",
   "language": "python",
   "name": "python3"
  },
  "language_info": {
   "codemirror_mode": {
    "name": "ipython",
    "version": 3
   },
   "file_extension": ".py",
   "mimetype": "text/x-python",
   "name": "python",
   "nbconvert_exporter": "python",
   "pygments_lexer": "ipython3",
   "version": "3.5.2"
  }
 },
 "nbformat": 4,
 "nbformat_minor": 2
}
