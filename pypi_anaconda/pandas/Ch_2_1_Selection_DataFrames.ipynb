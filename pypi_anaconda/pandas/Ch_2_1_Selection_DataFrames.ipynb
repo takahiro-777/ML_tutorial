{
 "cells": [
  {
   "cell_type": "code",
   "execution_count": 1,
   "metadata": {
    "collapsed": true
   },
   "outputs": [],
   "source": [
    "\"\"\"\n",
    "Chapter_2_1. Selection_DataFrames(from pandas Cookbook)\n",
    "参考\n",
    "https://pandas.pydata.org/pandas-docs/stable/cookbook.html\n",
    "\"\"\"\n",
    "import pandas as pd"
   ]
  },
  {
   "cell_type": "code",
   "execution_count": 5,
   "metadata": {},
   "outputs": [
    {
     "name": "stdout",
     "output_type": "stream",
     "text": [
      "   AAA  BBB  CCC\n",
      "0    4   10  100\n",
      "1    5   20   50\n",
      "2    6   30  -30\n",
      "3    7   40  -50\n",
      "=====================\n",
      "   AAA  BBB  CCC\n",
      "0    4   10  100\n",
      "2    6   30  -30\n"
     ]
    }
   ],
   "source": [
    "# Using both row labels and value conditionals\n",
    "df = pd.DataFrame({'AAA' : [4,5,6,7], 'BBB' : [10,20,30,40],'CCC' : [100,50,-30,-50]})\n",
    "print(df)\n",
    "print(\"=====================\")\n",
    "print(df[(df.AAA <= 6) & (df.index.isin([0,2,4]))])"
   ]
  },
  {
   "cell_type": "code",
   "execution_count": 6,
   "metadata": {},
   "outputs": [
    {
     "name": "stdout",
     "output_type": "stream",
     "text": [
      "==data==\n",
      "{'AAA': [4, 5, 6, 7], 'CCC': [100, 50, -30, -50], 'BBB': [10, 20, 30, 40]}\n",
      "==df==\n",
      "     AAA  BBB  CCC\n",
      "foo    4   10  100\n",
      "bar    5   20   50\n",
      "boo    6   30  -30\n",
      "kar    7   40  -50\n"
     ]
    }
   ],
   "source": [
    "# Use loc for label-oriented slicing and iloc positional slicing\n",
    "data = {'AAA' : [4,5,6,7], 'BBB' : [10,20,30,40],'CCC' : [100,50,-30,-50]}\n",
    "df = pd.DataFrame(data=data,index=['foo','bar','boo','kar'])\n",
    "\n",
    "print(\"==data==\")\n",
    "print(data)\n",
    "print(\"==df==\")\n",
    "print(df)"
   ]
  },
  {
   "cell_type": "code",
   "execution_count": 7,
   "metadata": {},
   "outputs": [
    {
     "name": "stdout",
     "output_type": "stream",
     "text": [
      "==df.loc['bar':'kar']==\n",
      "     AAA  BBB  CCC\n",
      "bar    5   20   50\n",
      "boo    6   30  -30\n",
      "kar    7   40  -50\n",
      "==df.iloc[0:3]==\n",
      "     AAA  BBB  CCC\n",
      "foo    4   10  100\n",
      "bar    5   20   50\n",
      "boo    6   30  -30\n",
      "==df.loc['bar':'kar']==\n",
      "     AAA  BBB  CCC\n",
      "bar    5   20   50\n",
      "boo    6   30  -30\n",
      "kar    7   40  -50\n"
     ]
    }
   ],
   "source": [
    "# Label\n",
    "print(\"==df.loc['bar':'kar']==\")\n",
    "print(df.loc['bar':'kar'])\n",
    "# Generic\n",
    "print(\"==df.iloc[0:3]==\")\n",
    "print(df.iloc[0:3])\n",
    "print(\"==df.loc['bar':'kar']==\")\n",
    "print(df.loc['bar':'kar'])"
   ]
  },
  {
   "cell_type": "code",
   "execution_count": 9,
   "metadata": {},
   "outputs": [
    {
     "name": "stdout",
     "output_type": "stream",
     "text": [
      "==df2.iloc[1:3]==\n",
      "   AAA  BBB  CCC\n",
      "2    5   20   50\n",
      "3    6   30  -30\n",
      "==df2.loc[1:3]==\n",
      "   AAA  BBB  CCC\n",
      "1    4   10  100\n",
      "2    5   20   50\n",
      "3    6   30  -30\n"
     ]
    }
   ],
   "source": [
    "# Ambiguity arises when an index consists of integers with a non-zero start or non-unit increment.\n",
    "df2 = pd.DataFrame(data=data,index=[1,2,3,4])\n",
    "#Position-oriented\n",
    "print(\"==df2.iloc[1:3]==\")\n",
    "print(df2.iloc[1:3])\n",
    "#Label-oriented\n",
    "print(\"==df2.loc[1:3]==\")\n",
    "print(df2.loc[1:3])"
   ]
  },
  {
   "cell_type": "code",
   "execution_count": 10,
   "metadata": {},
   "outputs": [
    {
     "name": "stdout",
     "output_type": "stream",
     "text": [
      "==df==\n",
      "   AAA  BBB  CCC\n",
      "0    4   10  100\n",
      "1    5   20   50\n",
      "2    6   30  -30\n",
      "3    7   40  -50\n",
      "==df[~((df.AAA <= 6) & (df.index.isin([0,2,4])))]==\n",
      "   AAA  BBB  CCC\n",
      "1    5   20   50\n",
      "3    7   40  -50\n"
     ]
    }
   ],
   "source": [
    "# Using inverse operator (~) to take the complement of a mask\n",
    "df = pd.DataFrame({'AAA' : [4,5,6,7], 'BBB' : [10,20,30,40], 'CCC' : [100,50,-30,-50]})\n",
    "print(\"==df==\")\n",
    "print(df)\n",
    "print(\"==df[~((df.AAA <= 6) & (df.index.isin([0,2,4])))]==\")\n",
    "print(df[~((df.AAA <= 6) & (df.index.isin([0,2,4])))])"
   ]
  },
  {
   "cell_type": "code",
   "execution_count": null,
   "metadata": {
    "collapsed": true
   },
   "outputs": [],
   "source": []
  }
 ],
 "metadata": {
  "kernelspec": {
   "display_name": "Python 3",
   "language": "python",
   "name": "python3"
  },
  "language_info": {
   "codemirror_mode": {
    "name": "ipython",
    "version": 3
   },
   "file_extension": ".py",
   "mimetype": "text/x-python",
   "name": "python",
   "nbconvert_exporter": "python",
   "pygments_lexer": "ipython3",
   "version": "3.5.2"
  }
 },
 "nbformat": 4,
 "nbformat_minor": 2
}
