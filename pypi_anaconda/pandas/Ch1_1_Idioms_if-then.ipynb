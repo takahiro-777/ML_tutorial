{
 "cells": [
  {
   "cell_type": "code",
   "execution_count": 10,
   "metadata": {
    "collapsed": true
   },
   "outputs": [],
   "source": [
    "\"\"\"\n",
    "Chapter_1_1. Idioms_if-then(from pandas Cookbook)\n",
    "参考\n",
    "https://pandas.pydata.org/pandas-docs/stable/cookbook.html\n",
    "\"\"\"\n",
    "import numpy as np\n",
    "import pandas as pd"
   ]
  },
  {
   "cell_type": "code",
   "execution_count": 11,
   "metadata": {},
   "outputs": [
    {
     "name": "stdout",
     "output_type": "stream",
     "text": [
      "   AAA  BBB  CCC\n",
      "0    4   10  100\n",
      "1    5   20   50\n",
      "2    6   30  -30\n",
      "3    7   40  -50\n"
     ]
    }
   ],
   "source": [
    "# make data (pandas DataFrame-Format)\n",
    "df = pd.DataFrame({'AAA' : [4,5,6,7], 'BBB' : [10,20,30,40],'CCC' : [100,50,-30,-50]})\n",
    "print(df)"
   ]
  },
  {
   "cell_type": "code",
   "execution_count": 12,
   "metadata": {},
   "outputs": [
    {
     "name": "stdout",
     "output_type": "stream",
     "text": [
      "   AAA  BBB  CCC\n",
      "0    4   10  100\n",
      "1    5   -1   50\n",
      "2    6   -1  -30\n",
      "3    7   -1  -50\n"
     ]
    }
   ],
   "source": [
    "## if-then... ======\n",
    "# An if-then on one column\n",
    "df.loc[df.AAA >= 5,'BBB'] = -1\n",
    "print(df)"
   ]
  },
  {
   "cell_type": "code",
   "execution_count": 13,
   "metadata": {},
   "outputs": [
    {
     "name": "stdout",
     "output_type": "stream",
     "text": [
      "   AAA  BBB  CCC\n",
      "0    4   10  100\n",
      "1    5  555  555\n",
      "2    6  555  555\n",
      "3    7  555  555\n"
     ]
    }
   ],
   "source": [
    "# An if-then with assignment to 2 columns:\n",
    "df.loc[df.AAA >= 5,['BBB','CCC']] = 555\n",
    "print(df)"
   ]
  },
  {
   "cell_type": "code",
   "execution_count": 14,
   "metadata": {},
   "outputs": [
    {
     "name": "stdout",
     "output_type": "stream",
     "text": [
      "   AAA   BBB   CCC\n",
      "0    4  2000  2000\n",
      "1    5   555   555\n",
      "2    6   555   555\n",
      "3    7   555   555\n"
     ]
    }
   ],
   "source": [
    "# Add another line with different logic, to do the -else\n",
    "df.loc[df.AAA < 5,['BBB','CCC']] = 2000\n",
    "print(df)"
   ]
  },
  {
   "cell_type": "code",
   "execution_count": 15,
   "metadata": {},
   "outputs": [
    {
     "name": "stdout",
     "output_type": "stream",
     "text": [
      "   AAA   BBB   CCC\n",
      "0    4 -1000  2000\n",
      "1    5 -1000 -1000\n",
      "2    6 -1000   555\n",
      "3    7 -1000 -1000\n"
     ]
    }
   ],
   "source": [
    "# Or use pandas where after you’ve set up a mask\n",
    "df_mask = pd.DataFrame({'AAA' : [True] * 4, 'BBB' : [False] * 4,'CCC' : [True,False] * 2})\n",
    "print(df.where(df_mask,-1000))"
   ]
  },
  {
   "cell_type": "code",
   "execution_count": 16,
   "metadata": {},
   "outputs": [
    {
     "name": "stdout",
     "output_type": "stream",
     "text": [
      "   AAA  BBB  CCC\n",
      "0    4   10  100\n",
      "1    5   20   50\n",
      "2    6   30  -30\n",
      "3    7   40  -50\n",
      "   AAA  BBB  CCC logic\n",
      "0    4   10  100   low\n",
      "1    5   20   50   low\n",
      "2    6   30  -30  high\n",
      "3    7   40  -50  high\n"
     ]
    }
   ],
   "source": [
    "# if-then-else using numpy’s where()\n",
    "df = pd.DataFrame({'AAA' : [4,5,6,7], 'BBB' : [10,20,30,40],'CCC' : [100,50,-30,-50]})\n",
    "print(df)\n",
    "\n",
    "df['logic'] = np.where(df['AAA'] > 5,'high','low')\n",
    "print(df)"
   ]
  },
  {
   "cell_type": "code",
   "execution_count": null,
   "metadata": {
    "collapsed": true
   },
   "outputs": [],
   "source": []
  },
  {
   "cell_type": "code",
   "execution_count": null,
   "metadata": {
    "collapsed": true
   },
   "outputs": [],
   "source": []
  }
 ],
 "metadata": {
  "kernelspec": {
   "display_name": "Python 3",
   "language": "python",
   "name": "python3"
  },
  "language_info": {
   "codemirror_mode": {
    "name": "ipython",
    "version": 3
   },
   "file_extension": ".py",
   "mimetype": "text/x-python",
   "name": "python",
   "nbconvert_exporter": "python",
   "pygments_lexer": "ipython3",
   "version": "3.5.2"
  }
 },
 "nbformat": 4,
 "nbformat_minor": 2
}
