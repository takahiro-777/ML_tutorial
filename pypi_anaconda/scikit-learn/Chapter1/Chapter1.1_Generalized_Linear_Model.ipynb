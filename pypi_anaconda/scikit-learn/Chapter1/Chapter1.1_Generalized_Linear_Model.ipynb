{
 "cells": [
  {
   "cell_type": "code",
   "execution_count": 1,
   "metadata": {
    "collapsed": true
   },
   "outputs": [],
   "source": [
    "\"\"\"\n",
    "Chapter_1.1. Generalized Linear Models\n",
    "参考\n",
    "http://scikit-learn.org/stable/modules/linear_model.html\n",
    "\"\"\"\n",
    "import warnings\n",
    "warnings.filterwarnings(action=\"ignore\", module=\"scipy\", message=\"^internal gelsd\")\n",
    "\n",
    "from sklearn import linear_model"
   ]
  },
  {
   "cell_type": "code",
   "execution_count": 2,
   "metadata": {},
   "outputs": [
    {
     "name": "stdout",
     "output_type": "stream",
     "text": [
      "LinearRegression(copy_X=True, fit_intercept=True, n_jobs=1, normalize=False)\n",
      "[ 0.5  0.5]\n"
     ]
    }
   ],
   "source": [
    "# 1.1.1. Ordinary Least Squares\n",
    "reg = linear_model.LinearRegression()\n",
    "print(reg.fit ([[0, 0], [1, 1], [2, 2]], [0, 1, 2]))\n",
    "# LinearRegression(copy_X=True, fit_intercept=True, n_jobs=1, normalize=False)\n",
    "print(reg.coef_)\n",
    "# array([ 0.5,  0.5])"
   ]
  },
  {
   "cell_type": "code",
   "execution_count": 3,
   "metadata": {},
   "outputs": [
    {
     "name": "stdout",
     "output_type": "stream",
     "text": [
      "Ridge(alpha=0.5, copy_X=True, fit_intercept=True, max_iter=None,\n",
      "   normalize=False, random_state=None, solver='auto', tol=0.001)\n",
      "[ 0.34545455  0.34545455]\n",
      "0.136363636364\n"
     ]
    }
   ],
   "source": [
    "# 1.1.2. Ridge Regression\n",
    "reg = linear_model.Ridge(alpha = .5)\n",
    "print(reg.fit ([[0, 0], [0, 0], [1, 1]], [0, .1, 1]))\n",
    "# Ridge(alpha=0.5, copy_X=True, fit_intercept=True, max_iter=None,\n",
    "#      normalize=False, random_state=None, solver='auto', tol=0.001)\n",
    "print(reg.coef_)\n",
    "# array([ 0.34545455,  0.34545455])\n",
    "print(reg.intercept_) \n",
    "# 0.13636..."
   ]
  },
  {
   "cell_type": "code",
   "execution_count": 4,
   "metadata": {},
   "outputs": [
    {
     "name": "stdout",
     "output_type": "stream",
     "text": [
      "RidgeCV(alphas=[0.1, 1.0, 10.0], cv=None, fit_intercept=True, gcv_mode=None,\n",
      "    normalize=False, scoring=None, store_cv_values=False)\n",
      "0.1\n"
     ]
    }
   ],
   "source": [
    "# 1.1.2.2. Setting the regularization parameter: generalized Cross-Validation\n",
    "reg = linear_model.RidgeCV(alphas=[0.1, 1.0, 10.0])\n",
    "print(reg.fit([[0, 0], [0, 0], [1, 1]], [0, .1, 1]))\n",
    "# RidgeCV(alphas=[0.1, 1.0, 10.0], cv=None, fit_intercept=True, scoring=None,\n",
    "#    normalize=False)\n",
    "print(reg.alpha_)\n",
    "# 0.1"
   ]
  },
  {
   "cell_type": "code",
   "execution_count": 5,
   "metadata": {},
   "outputs": [
    {
     "name": "stdout",
     "output_type": "stream",
     "text": [
      "Lasso(alpha=0.1, copy_X=True, fit_intercept=True, max_iter=1000,\n",
      "   normalize=False, positive=False, precompute=False, random_state=None,\n",
      "   selection='cyclic', tol=0.0001, warm_start=False)\n",
      "[ 0.8]\n"
     ]
    }
   ],
   "source": [
    "# 1.1.3. Lasso\n",
    "reg = linear_model.Lasso(alpha = 0.1)\n",
    "print(reg.fit([[0, 0], [1, 1]], [0, 1]))\n",
    "# Lasso(alpha=0.1, copy_X=True, fit_intercept=True, max_iter=1000,\n",
    "#   normalize=False, positive=False, precompute=False, random_state=None,\n",
    "#   selection='cyclic', tol=0.0001, warm_start=False)\n",
    "print(reg.predict([[1, 1]]))\n",
    "# array([ 0.8])"
   ]
  },
  {
   "cell_type": "code",
   "execution_count": 6,
   "metadata": {},
   "outputs": [
    {
     "name": "stdout",
     "output_type": "stream",
     "text": [
      "LassoLars(alpha=0.1, copy_X=True, eps=2.2204460492503131e-16,\n",
      "     fit_intercept=True, fit_path=True, max_iter=500, normalize=True,\n",
      "     positive=False, precompute='auto', verbose=False)\n",
      "[ 0.71715729  0.        ]\n"
     ]
    }
   ],
   "source": [
    "# 1.1.8. LARS Lasso\n",
    "reg = linear_model.LassoLars(alpha=.1)\n",
    "print(reg.fit([[0, 0], [1, 1]], [0, 1]))\n",
    "# LassoLars(alpha=0.1, copy_X=True, eps=..., fit_intercept=True,\n",
    "#     fit_path=True, max_iter=500, normalize=True, positive=False,\n",
    "#     precompute='auto', verbose=False)\n",
    "print(reg.coef_)\n",
    "# array([ 0.717157...,  0.        ])"
   ]
  },
  {
   "cell_type": "code",
   "execution_count": 7,
   "metadata": {},
   "outputs": [
    {
     "name": "stdout",
     "output_type": "stream",
     "text": [
      "BayesianRidge(alpha_1=1e-06, alpha_2=1e-06, compute_score=False, copy_X=True,\n",
      "       fit_intercept=True, lambda_1=1e-06, lambda_2=1e-06, n_iter=300,\n",
      "       normalize=False, tol=0.001, verbose=False)\n",
      "[ 0.50000013]\n",
      "[ 0.49999993  0.49999993]\n"
     ]
    }
   ],
   "source": [
    "# 1.1.10.1. Bayesian Ridge Regression\n",
    "X = [[0., 0.], [1., 1.], [2., 2.], [3., 3.]]\n",
    "Y = [0., 1., 2., 3.]\n",
    "reg = linear_model.BayesianRidge()\n",
    "print(reg.fit(X, Y))\n",
    "# BayesianRidge(alpha_1=1e-06, alpha_2=1e-06, compute_score=False, copy_X=True,\n",
    "#       fit_intercept=True, lambda_1=1e-06, lambda_2=1e-06, n_iter=300,\n",
    "#       normalize=False, tol=0.001, verbose=False)\n",
    "print(reg.predict ([[1, 0.]]))\n",
    "# array([ 0.50000013])\n",
    "print(reg.coef_)\n",
    "# array([ 0.49999993,  0.49999993])"
   ]
  },
  {
   "cell_type": "code",
   "execution_count": 8,
   "metadata": {},
   "outputs": [
    {
     "name": "stdout",
     "output_type": "stream",
     "text": [
      "[[0 1]\n",
      " [2 3]\n",
      " [4 5]]\n",
      "[[  1.   0.   1.   0.   0.   1.]\n",
      " [  1.   2.   3.   4.   6.   9.]\n",
      " [  1.   4.   5.  16.  20.  25.]]\n"
     ]
    }
   ],
   "source": [
    "# 1.1.16. Polynomial regression: extending linear models with basis functions  Ver.1\n",
    "from sklearn.preprocessing import PolynomialFeatures\n",
    "import numpy as np\n",
    "X = np.arange(6).reshape(3, 2)\n",
    "print(X)\n",
    "# array([[0, 1],\n",
    "#       [2, 3],\n",
    "#       [4, 5]])\n",
    "poly = PolynomialFeatures(degree=2)\n",
    "print(poly.fit_transform(X))\n",
    "#array([[  1.,   0.,   1.,   0.,   0.,   1.],\n",
    "#       [  1.,   2.,   3.,   4.,   6.,   9.],\n",
    "#       [  1.,   4.,   5.,  16.,  20.,  25.]])"
   ]
  },
  {
   "cell_type": "code",
   "execution_count": 9,
   "metadata": {},
   "outputs": [
    {
     "name": "stdout",
     "output_type": "stream",
     "text": [
      "[ 3. -2.  1. -1.]\n"
     ]
    }
   ],
   "source": [
    "# 1.1.16. Polynomial regression: extending linear models with basis functions  Ver.2\n",
    "from sklearn.preprocessing import PolynomialFeatures\n",
    "from sklearn.linear_model import LinearRegression\n",
    "from sklearn.pipeline import Pipeline\n",
    "import numpy as np\n",
    "model = Pipeline([('poly', PolynomialFeatures(degree=3)),\n",
    "                  ('linear', LinearRegression(fit_intercept=False))])\n",
    "# fit to an order-3 polynomial data\n",
    "x = np.arange(5)\n",
    "y = 3 - 2 * x + x ** 2 - x ** 3\n",
    "model = model.fit(x[:, np.newaxis], y)\n",
    "print(model.named_steps['linear'].coef_)\n",
    "# array([ 3., -2.,  1., -1.])"
   ]
  },
  {
   "cell_type": "code",
   "execution_count": 10,
   "metadata": {},
   "outputs": [
    {
     "name": "stdout",
     "output_type": "stream",
     "text": [
      "[0 1 1 0]\n",
      "[[1 0 0 0]\n",
      " [1 0 1 0]\n",
      " [1 1 0 0]\n",
      " [1 1 1 1]]\n",
      "[0 1 1 0]\n",
      "1.0\n"
     ]
    }
   ],
   "source": [
    "# 1.1.16. Polynomial regression: extending linear models with basis functions  Ver.3\n",
    "from sklearn.linear_model import Perceptron\n",
    "from sklearn.preprocessing import PolynomialFeatures\n",
    "import numpy as np\n",
    "X = np.array([[0, 0], [0, 1], [1, 0], [1, 1]])\n",
    "y = X[:, 0] ^ X[:, 1]\n",
    "print(y)\n",
    "# array([0, 1, 1, 0])\n",
    "X = PolynomialFeatures(interaction_only=True).fit_transform(X).astype(int)\n",
    "print(X)\n",
    "# array([[1, 0, 0, 0],\n",
    "#       [1, 0, 1, 0],\n",
    "#       [1, 1, 0, 0],\n",
    "#       [1, 1, 1, 1]])\n",
    "clf = Perceptron(fit_intercept=False, max_iter=10, tol=None,\n",
    "                 shuffle=False).fit(X, y)\n",
    "print(clf.predict(X))\n",
    "# array([0, 1, 1, 0])\n",
    "print(clf.score(X, y))\n",
    "# 1.0"
   ]
  },
  {
   "cell_type": "code",
   "execution_count": null,
   "metadata": {
    "collapsed": true
   },
   "outputs": [],
   "source": []
  }
 ],
 "metadata": {
  "kernelspec": {
   "display_name": "Python 3",
   "language": "python",
   "name": "python3"
  },
  "language_info": {
   "codemirror_mode": {
    "name": "ipython",
    "version": 3
   },
   "file_extension": ".py",
   "mimetype": "text/x-python",
   "name": "python",
   "nbconvert_exporter": "python",
   "pygments_lexer": "ipython3",
   "version": "3.5.2"
  }
 },
 "nbformat": 4,
 "nbformat_minor": 2
}
