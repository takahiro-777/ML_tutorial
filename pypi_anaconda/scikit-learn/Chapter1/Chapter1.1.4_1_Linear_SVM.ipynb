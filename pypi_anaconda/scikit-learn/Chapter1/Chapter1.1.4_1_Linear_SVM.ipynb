{
 "cells": [
  {
   "cell_type": "code",
   "execution_count": 1,
   "metadata": {
    "collapsed": true
   },
   "outputs": [],
   "source": [
    "\"\"\"\n",
    "Chapter_1.1.4. SVM: Maximum margin separating hyperplane\n",
    "参考\n",
    "http://scikit-learn.org/stable/auto_examples/svm/plot_separating_hyperplane.html#sphx-glr-auto-examples-svm-plot-separating-hyperplane-py\n",
    "\"\"\"\n",
    "import numpy as np\n",
    "import matplotlib.pyplot as plt\n",
    "from sklearn import svm\n",
    "from sklearn.datasets import make_blobs"
   ]
  },
  {
   "cell_type": "code",
   "execution_count": 2,
   "metadata": {},
   "outputs": [
    {
     "name": "stdout",
     "output_type": "stream",
     "text": [
      "[[  6.37734541 -10.61510727]\n",
      " [  6.50072722  -3.82403586]\n",
      " [  4.29225906  -8.99220442]]\n",
      "[1 0 1 0 1 0 0 0 0 0 1 1 0 1 1 0 0 1 0 0 1 1 1 1 0 0 1 1 0 1 1 1 1 0 0 0 0\n",
      " 1 0 1]\n"
     ]
    }
   ],
   "source": [
    "# we create 40 separable points\n",
    "X, y = make_blobs(n_samples=40, centers=2, random_state=6)\n",
    "\n",
    "print(X[0:3])\n",
    "print(y)"
   ]
  },
  {
   "cell_type": "code",
   "execution_count": 3,
   "metadata": {},
   "outputs": [
    {
     "name": "stdout",
     "output_type": "stream",
     "text": [
      "[ 7.27059007  5.95313618  7.89359985]\n",
      "[-4.84225716 -6.82945967 -7.41655113]\n"
     ]
    }
   ],
   "source": [
    "# fit the model, don't regularize for illustration purposes\n",
    "clf = svm.SVC(kernel='linear', C=1000)\n",
    "clf.fit(X, y)\n",
    "\n",
    "print(clf.support_vectors_[:, 0])\n",
    "print(clf.support_vectors_[:, 1])"
   ]
  },
  {
   "cell_type": "code",
   "execution_count": 4,
   "metadata": {
    "collapsed": true
   },
   "outputs": [],
   "source": [
    "# plot coordinates\n",
    "plt.scatter(X[:, 0], X[:, 1], c=y, s=30, cmap=plt.cm.Paired)\n",
    "\n",
    "# plot the decision function\n",
    "ax = plt.gca()\n",
    "xlim = ax.get_xlim()\n",
    "ylim = ax.get_ylim()"
   ]
  },
  {
   "cell_type": "code",
   "execution_count": 5,
   "metadata": {},
   "outputs": [
    {
     "name": "stdout",
     "output_type": "stream",
     "text": [
      "[  3.97345001   4.20909975   4.4447495    4.68039924   4.91604899\n",
      "   5.15169874   5.38734848   5.62299823   5.85864798   6.09429772\n",
      "   6.32994747   6.56559721   6.80124696   7.03689671   7.27254645\n",
      "   7.5081962    7.74384594   7.97949569   8.21514544   8.45079518\n",
      "   8.68644493   8.92209467   9.15774442   9.39339417   9.62904391\n",
      "   9.86469366  10.10034341  10.33599315  10.5716429   10.80729264]\n",
      "[-11.08232623 -10.73743894 -10.39255164 -10.04766434  -9.70277705\n",
      "  -9.35788975  -9.01300245  -8.66811515  -8.32322786  -7.97834056\n",
      "  -7.63345326  -7.28856597  -6.94367867  -6.59879137  -6.25390407\n",
      "  -5.90901678  -5.56412948  -5.21924218  -4.87435489  -4.52946759\n",
      "  -4.18458029  -3.83969299  -3.4948057   -3.1499184   -2.8050311\n",
      "  -2.46014381  -2.11525651  -1.77036921  -1.42548192  -1.08059462]\n",
      "(30, 30)\n",
      "(30, 30)\n",
      "(900, 2)\n",
      "[[ 5.0672251   4.77818752  4.48914993  4.20011235  3.91107477]\n",
      " [ 5.00737673  4.71833915  4.42930157  4.14026398  3.8512264 ]\n",
      " [ 4.94752837  4.65849078  4.3694532   4.08041562  3.79137803]\n",
      " [ 4.88768     4.59864242  4.30960483  4.02056725  3.73152966]\n",
      " [ 4.82783163  4.53879405  4.24975646  3.96071888  3.6716813 ]]\n",
      "[[-2.15871448 -2.44775207 -2.73678965 -3.02582723 -3.31486482]\n",
      " [-2.21856285 -2.50760044 -2.79663802 -3.0856756  -3.37471319]\n",
      " [-2.27841122 -2.5674488  -2.85648639 -3.14552397 -3.43456155]\n",
      " [-2.33825959 -2.62729717 -2.91633475 -3.20537234 -3.49440992]\n",
      " [-2.39810795 -2.68714554 -2.97618312 -3.2652207  -3.55425829]]\n",
      "[[ 3.57101591  3.28197833  2.99294075  2.70390316  2.41486558]\n",
      " [ 3.51116755  3.22212996  2.93309238  2.6440548   2.35501721]\n",
      " [ 3.45131918  3.1622816   2.87324401  2.58420643  2.29516885]\n",
      " [ 3.39147081  3.10243323  2.81339564  2.52435806  2.23532048]\n",
      " [ 3.33162244  3.04258486  2.75354728  2.46450969  2.17547211]]\n",
      "[[-3.65492367 -3.94396125 -4.23299884 -4.52203642 -4.81107401]\n",
      " [-3.71477204 -4.00380962 -4.29284721 -4.58188479 -4.87092237]\n",
      " [-3.77462041 -4.06365799 -4.35269557 -4.64173316 -4.93077074]\n",
      " [-3.83446877 -4.12350636 -4.41254394 -4.70158152 -4.99061911]\n",
      " [-3.89431714 -4.18335472 -4.47239231 -4.76142989 -5.05046748]]\n"
     ]
    }
   ],
   "source": [
    "# create grid to evaluate model\n",
    "xx = np.linspace(xlim[0], xlim[1], 30)\n",
    "yy = np.linspace(ylim[0], ylim[1], 30)\n",
    "YY, XX = np.meshgrid(yy, xx)\n",
    "xy = np.vstack([XX.ravel(), YY.ravel()]).T\n",
    "Z = clf.decision_function(xy).reshape(XX.shape)\n",
    "\n",
    "print(xx)\n",
    "print(yy)\n",
    "print(YY.shape)\n",
    "print(XX.shape)\n",
    "print(xy.shape)\n",
    "print(Z[0:5,0:5])\n",
    "print(Z[0:5,25:30])\n",
    "print(Z[25:30,0:5])\n",
    "print(Z[25:30,25:30])"
   ]
  },
  {
   "cell_type": "code",
   "execution_count": 6,
   "metadata": {},
   "outputs": [
    {
     "data": {
      "image/png": "[encoded data removed]",
      "text/plain": [
       "<matplotlib.figure.Figure at 0x1149e1f60>"
      ]
     },
     "metadata": {},
     "output_type": "display_data"
    }
   ],
   "source": [
    "# plot decision boundary and margins\n",
    "ax.contour(XX, YY, Z, colors='k', levels=[-1, 0, 1], alpha=0.5,\n",
    "           linestyles=['--', '-', '--'])\n",
    "# plot support vectors\n",
    "ax.scatter(clf.support_vectors_[:, 0], clf.support_vectors_[:, 1], s=100,\n",
    "           linewidth=1, facecolors='none')\n",
    "plt.show()"
   ]
  },
  {
   "cell_type": "code",
   "execution_count": null,
   "metadata": {
    "collapsed": true
   },
   "outputs": [],
   "source": []
  },
  {
   "cell_type": "code",
   "execution_count": null,
   "metadata": {
    "collapsed": true
   },
   "outputs": [],
   "source": []
  }
 ],
 "metadata": {
  "kernelspec": {
   "display_name": "Python 3",
   "language": "python",
   "name": "python3"
  },
  "language_info": {
   "codemirror_mode": {
    "name": "ipython",
    "version": 3
   },
   "file_extension": ".py",
   "mimetype": "text/x-python",
   "name": "python",
   "nbconvert_exporter": "python",
   "pygments_lexer": "ipython3",
   "version": "3.5.2"
  }
 },
 "nbformat": 4,
 "nbformat_minor": 2
}
