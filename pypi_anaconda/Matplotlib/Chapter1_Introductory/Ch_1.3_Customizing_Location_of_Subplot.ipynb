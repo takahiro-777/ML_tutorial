{
 "cells": [
  {
   "cell_type": "code",
   "execution_count": 1,
   "metadata": {
    "collapsed": true
   },
   "outputs": [],
   "source": [
    "\"\"\"\n",
    "Chapter_1.3. Customizing Location of Subplot Using GridSpec\n",
    "参考\n",
    "https://matplotlib.org/users/gridspec.html\n",
    "\"\"\"\n",
    "import matplotlib.pyplot as plt\n",
    "import matplotlib.gridspec as gridspec\n",
    "from matplotlib.gridspec import GridSpec\n",
    "import numpy as np"
   ]
  },
  {
   "cell_type": "code",
   "execution_count": 2,
   "metadata": {
    "collapsed": true
   },
   "outputs": [],
   "source": [
    "def make_ticklabels_invisible(fig):\n",
    "    for i, ax in enumerate(fig.axes):\n",
    "        ax.text(0.5, 0.5, \"ax%d\" % (i+1), va=\"center\", ha=\"center\")\n",
    "        for tl in ax.get_xticklabels() + ax.get_yticklabels():\n",
    "            tl.set_visible(False)"
   ]
  },
  {
   "cell_type": "code",
   "execution_count": 3,
   "metadata": {
    "collapsed": true
   },
   "outputs": [],
   "source": [
    "plt.figure(0)\n",
    "ax1 = plt.subplot2grid((3,3), (0,0), colspan=3)\n",
    "ax2 = plt.subplot2grid((3,3), (1,0), colspan=2)\n",
    "ax3 = plt.subplot2grid((3,3), (1, 2), rowspan=2)\n",
    "ax4 = plt.subplot2grid((3,3), (2, 0))\n",
    "ax5 = plt.subplot2grid((3,3), (2, 1))"
   ]
  },
  {
   "cell_type": "code",
   "execution_count": 4,
   "metadata": {},
   "outputs": [
    {
     "data": {
      "image/png": "[encoded data removed]",
      "text/plain": [
       "<matplotlib.figure.Figure at 0x10dfe0780>"
      ]
     },
     "metadata": {},
     "output_type": "display_data"
    }
   ],
   "source": [
    "plt.suptitle(\"subplot2grid\")\n",
    "make_ticklabels_invisible(plt.gcf())\n",
    "plt.show()"
   ]
  },
  {
   "cell_type": "code",
   "execution_count": 5,
   "metadata": {},
   "outputs": [
    {
     "data": {
      "text/plain": [
       "<matplotlib.figure.Figure at 0x10dfe05c0>"
      ]
     },
     "execution_count": 5,
     "metadata": {},
     "output_type": "execute_result"
    }
   ],
   "source": [
    "# GridSpec and SubplotSpec\n",
    "def make_ticklabels_invisible(fig):\n",
    "    for i, ax in enumerate(fig.axes):\n",
    "        ax.text(0.5, 0.5, \"ax%d\" % (i+1), va=\"center\", ha=\"center\")\n",
    "        for tl in ax.get_xticklabels() + ax.get_yticklabels():\n",
    "            tl.set_visible(False)\n",
    "\n",
    "\n",
    "plt.figure()"
   ]
  },
  {
   "cell_type": "code",
   "execution_count": 6,
   "metadata": {},
   "outputs": [
    {
     "data": {
      "image/png": "[encoded data removed]",
      "text/plain": [
       "<matplotlib.figure.Figure at 0x10dfe05c0>"
      ]
     },
     "metadata": {},
     "output_type": "display_data"
    }
   ],
   "source": [
    "gs = GridSpec(3, 3)\n",
    "ax1 = plt.subplot(gs[0, :])\n",
    "# identical to ax1 = plt.subplot(gs.new_subplotspec((0,0), colspan=3))\n",
    "ax2 = plt.subplot(gs[1,:-1])\n",
    "ax3 = plt.subplot(gs[1:, -1])\n",
    "ax4 = plt.subplot(gs[-1,0])\n",
    "ax5 = plt.subplot(gs[-1,-2])\n",
    "\n",
    "plt.suptitle(\"GridSpec\")\n",
    "make_ticklabels_invisible(plt.gcf())\n",
    "\n",
    "plt.show()"
   ]
  },
  {
   "cell_type": "code",
   "execution_count": 7,
   "metadata": {
    "collapsed": true
   },
   "outputs": [],
   "source": [
    "# Adjust GridSpec layout\n",
    "f = plt.figure()\n",
    "\n",
    "plt.suptitle(\"GridSpec w/ different subplotpars\")\n",
    "\n",
    "gs1 = GridSpec(3, 3)\n",
    "gs1.update(left=0.05, right=0.48, wspace=0.05)\n",
    "ax1 = plt.subplot(gs1[:-1, :])\n",
    "ax2 = plt.subplot(gs1[-1, :-1])\n",
    "ax3 = plt.subplot(gs1[-1, -1])"
   ]
  },
  {
   "cell_type": "code",
   "execution_count": 8,
   "metadata": {
    "collapsed": true
   },
   "outputs": [],
   "source": [
    "gs2 = GridSpec(3, 3)\n",
    "gs2.update(left=0.55, right=0.98, hspace=0.05)\n",
    "ax4 = plt.subplot(gs2[:, :-1])\n",
    "ax5 = plt.subplot(gs2[:-1, -1])\n",
    "ax6 = plt.subplot(gs2[-1, -1])"
   ]
  },
  {
   "cell_type": "code",
   "execution_count": 9,
   "metadata": {},
   "outputs": [
    {
     "data": {
      "image/png": "[encoded data removed]",
      "text/plain": [
       "<matplotlib.figure.Figure at 0x10e1bbbe0>"
      ]
     },
     "metadata": {},
     "output_type": "display_data"
    }
   ],
   "source": [
    "make_ticklabels_invisible(plt.gcf())\n",
    "\n",
    "plt.show()"
   ]
  },
  {
   "cell_type": "code",
   "execution_count": 10,
   "metadata": {},
   "outputs": [
    {
     "data": {
      "text/plain": [
       "<matplotlib.axes._subplots.AxesSubplot at 0x10e6c9dd8>"
      ]
     },
     "execution_count": 10,
     "metadata": {},
     "output_type": "execute_result"
    }
   ],
   "source": [
    "# GridSpec using SubplotSpec\n",
    "f = plt.figure()\n",
    "\n",
    "gs0 = gridspec.GridSpec(1, 2)\n",
    "\n",
    "gs00 = gridspec.GridSpecFromSubplotSpec(3, 3, subplot_spec=gs0[0])\n",
    "\n",
    "ax1 = plt.Subplot(f, gs00[:-1, :])\n",
    "f.add_subplot(ax1)\n",
    "ax2 = plt.Subplot(f, gs00[-1, :-1])\n",
    "f.add_subplot(ax2)\n",
    "ax3 = plt.Subplot(f, gs00[-1, -1])\n",
    "f.add_subplot(ax3)"
   ]
  },
  {
   "cell_type": "code",
   "execution_count": 11,
   "metadata": {},
   "outputs": [
    {
     "data": {
      "image/png": "[encoded data removed]",
      "text/plain": [
       "<matplotlib.figure.Figure at 0x10e5afe80>"
      ]
     },
     "metadata": {},
     "output_type": "display_data"
    }
   ],
   "source": [
    "gs01 = gridspec.GridSpecFromSubplotSpec(3, 3, subplot_spec=gs0[1])\n",
    "\n",
    "ax4 = plt.Subplot(f, gs01[:, :-1])\n",
    "f.add_subplot(ax4)\n",
    "ax5 = plt.Subplot(f, gs01[:-1, -1])\n",
    "f.add_subplot(ax5)\n",
    "ax6 = plt.Subplot(f, gs01[-1, -1])\n",
    "f.add_subplot(ax6)\n",
    "\n",
    "plt.suptitle(\"GirdSpec Inside GridSpec\")\n",
    "make_ticklabels_invisible(plt.gcf())\n",
    "\n",
    "plt.show()"
   ]
  },
  {
   "cell_type": "code",
   "execution_count": null,
   "metadata": {
    "collapsed": true
   },
   "outputs": [],
   "source": []
  }
 ],
 "metadata": {
  "kernelspec": {
   "display_name": "Python 3",
   "language": "python",
   "name": "python3"
  },
  "language_info": {
   "codemirror_mode": {
    "name": "ipython",
    "version": 3
   },
   "file_extension": ".py",
   "mimetype": "text/x-python",
   "name": "python",
   "nbconvert_exporter": "python",
   "pygments_lexer": "ipython3",
   "version": "3.5.2"
  }
 },
 "nbformat": 4,
 "nbformat_minor": 2
}
