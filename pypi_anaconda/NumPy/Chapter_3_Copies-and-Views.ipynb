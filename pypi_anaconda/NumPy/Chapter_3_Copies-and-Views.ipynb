{
 "cells": [
  {
   "cell_type": "code",
   "execution_count": 1,
   "metadata": {
    "collapsed": true
   },
   "outputs": [],
   "source": [
    "\"\"\"\n",
    "Chapter_3. Copies and Views\n",
    "参考\n",
    "https://docs.scipy.org/doc/numpy-dev/user/quickstart.html\n",
    "\"\"\"\n",
    "import numpy as np"
   ]
  },
  {
   "cell_type": "code",
   "execution_count": 2,
   "metadata": {},
   "outputs": [
    {
     "name": "stdout",
     "output_type": "stream",
     "text": [
      "True\n",
      "(3, 4)\n"
     ]
    }
   ],
   "source": [
    "# No Copy at All=====================\n",
    "a = np.arange(12)\n",
    "b = a            # no new object is created\n",
    "print(b is a)           # a and b are two names for the same ndarray object\n",
    "# True\n",
    "b.shape = 3,4    # changes the shape of a\n",
    "print(a.shape)\n",
    "# (3, 4)"
   ]
  },
  {
   "cell_type": "code",
   "execution_count": 4,
   "metadata": {},
   "outputs": [
    {
     "name": "stdout",
     "output_type": "stream",
     "text": [
      "4393576848\n",
      "4393576848\n"
     ]
    }
   ],
   "source": [
    "def f(x):\n",
    "    print(id(x))\n",
    "\n",
    "print(id(a))                           # id is a unique identifier of an object\n",
    "# 148293216\n",
    "f(a)\n",
    "# 148293216"
   ]
  },
  {
   "cell_type": "code",
   "execution_count": 5,
   "metadata": {},
   "outputs": [
    {
     "name": "stdout",
     "output_type": "stream",
     "text": [
      "False\n",
      "True\n",
      "False\n",
      "(3, 4)\n",
      "[[   0    1    2    3]\n",
      " [1234    5    6    7]\n",
      " [   8    9   10   11]]\n"
     ]
    }
   ],
   "source": [
    "# View or Shallow Copy=================\n",
    "c = a.view()\n",
    "print(c is a)\n",
    "# False\n",
    "print(c.base is a)                        # c is a view of the data owned by a\n",
    "# True\n",
    "print(c.flags.owndata)\n",
    "# False\n",
    "\n",
    "c.shape = 2,6                      # a's shape doesn't change\n",
    "print(a.shape)\n",
    "(3, 4)\n",
    "c[0,4] = 1234                      # a's data changes\n",
    "print(a)\n",
    "# array([[   0,    1,    2,    3],\n",
    "#        [1234,    5,    6,    7],\n",
    "#        [   8,    9,   10,   11]])"
   ]
  },
  {
   "cell_type": "code",
   "execution_count": 6,
   "metadata": {},
   "outputs": [
    {
     "name": "stdout",
     "output_type": "stream",
     "text": [
      "[[   0   10   10    3]\n",
      " [1234   10   10    7]\n",
      " [   8   10   10   11]]\n"
     ]
    }
   ],
   "source": [
    "s = a[ : , 1:3]     # spaces added for clarity; could also be written \"s = a[:,1:3]\"\n",
    "s[:] = 10           # s[:] is a view of s. Note the difference between s=10 and s[:]=10\n",
    "print(a)\n",
    "# array([[   0,   10,   10,    3],\n",
    "#        [1234,   10,   10,    7],\n",
    "#        [   8,   10,   10,   11]])"
   ]
  },
  {
   "cell_type": "code",
   "execution_count": 7,
   "metadata": {},
   "outputs": [
    {
     "name": "stdout",
     "output_type": "stream",
     "text": [
      "False\n",
      "False\n",
      "[[   0   10   10    3]\n",
      " [1234   10   10    7]\n",
      " [   8   10   10   11]]\n"
     ]
    }
   ],
   "source": [
    "# Deep Copy\n",
    "d = a.copy()                          # a new array object with new data is created\n",
    "print(d is a)\n",
    "# False\n",
    "print(d.base is a)                           # d doesn't share anything with a\n",
    "# False\n",
    "d[0,0] = 9999\n",
    "print(a)\n",
    "# array([[   0,   10,   10,    3],\n",
    "#        [1234,   10,   10,    7],\n",
    "#        [   8,   10,   10,   11]])"
   ]
  },
  {
   "cell_type": "code",
   "execution_count": null,
   "metadata": {
    "collapsed": true
   },
   "outputs": [],
   "source": []
  }
 ],
 "metadata": {
  "kernelspec": {
   "display_name": "Python 3",
   "language": "python",
   "name": "python3"
  },
  "language_info": {
   "codemirror_mode": {
    "name": "ipython",
    "version": 3
   },
   "file_extension": ".py",
   "mimetype": "text/x-python",
   "name": "python",
   "nbconvert_exporter": "python",
   "pygments_lexer": "ipython3",
   "version": "3.5.2"
  }
 },
 "nbformat": 4,
 "nbformat_minor": 2
}
