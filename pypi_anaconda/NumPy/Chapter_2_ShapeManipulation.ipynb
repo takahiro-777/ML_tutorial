{
 "cells": [
  {
   "cell_type": "code",
   "execution_count": 1,
   "metadata": {
    "collapsed": true
   },
   "outputs": [],
   "source": [
    "\"\"\"\n",
    "Chapter_2. Shape Manipulation\n",
    "参考\n",
    "https://docs.scipy.org/doc/numpy-dev/user/quickstart.html\n",
    "\"\"\"\n",
    "import numpy as np"
   ]
  },
  {
   "cell_type": "code",
   "execution_count": 2,
   "metadata": {},
   "outputs": [
    {
     "name": "stdout",
     "output_type": "stream",
     "text": [
      "[[ 6.  9.  6.  5.]\n",
      " [ 0.  2.  3.  7.]\n",
      " [ 5.  4.  3.  0.]]\n",
      "(3, 4)\n"
     ]
    }
   ],
   "source": [
    "# Changing the shape of an array=========\n",
    "a = np.floor(10*np.random.random((3,4)))\n",
    "print(a)\n",
    "# array([[ 2.,  8.,  0.,  6.],\n",
    "#        [ 4.,  5.,  1.,  1.],\n",
    "#        [ 8.,  9.,  3.,  6.]])\n",
    "print(a.shape)\n",
    "# (3, 4)"
   ]
  },
  {
   "cell_type": "code",
   "execution_count": 3,
   "metadata": {},
   "outputs": [
    {
     "name": "stdout",
     "output_type": "stream",
     "text": [
      "[ 6.  9.  6.  5.  0.  2.  3.  7.  5.  4.  3.  0.]\n",
      "[[ 6.  9.]\n",
      " [ 6.  5.]\n",
      " [ 0.  2.]\n",
      " [ 3.  7.]\n",
      " [ 5.  4.]\n",
      " [ 3.  0.]]\n",
      "[[ 6.  0.  5.]\n",
      " [ 9.  2.  4.]\n",
      " [ 6.  3.  3.]\n",
      " [ 5.  7.  0.]]\n",
      "(4, 3)\n",
      "(3, 4)\n"
     ]
    }
   ],
   "source": [
    "print(a.ravel())  # returns the array, flattened\n",
    "# array([ 2.,  8.,  0.,  6.,  4.,  5.,  1.,  1.,  8.,  9.,  3.,  6.])\n",
    "print(a.reshape(6,2))  # returns the array with a modified shape\n",
    "# array([[ 2.,  8.],\n",
    "#        [ 0.,  6.],\n",
    "#        [ 4.,  5.],\n",
    "#        [ 1.,  1.],\n",
    "#        [ 8.,  9.],\n",
    "#        [ 3.,  6.]])\n",
    "print(a.T)  # returns the array, transposed\n",
    "# array([[ 2.,  4.,  8.],\n",
    "#        [ 8.,  5.,  9.],\n",
    "#        [ 0.,  1.,  3.],\n",
    "#        [ 6.,  1.,  6.]])\n",
    "print(a.T.shape)\n",
    "# (4, 3)\n",
    "print(a.shape)\n",
    "# (3, 4)"
   ]
  },
  {
   "cell_type": "code",
   "execution_count": 5,
   "metadata": {},
   "outputs": [
    {
     "name": "stdout",
     "output_type": "stream",
     "text": [
      "[[ 6.  9.  6.  5.  0.  2.]\n",
      " [ 3.  7.  5.  4.  3.  0.]]\n",
      "[[ 6.  9.  6.  5.  0.  2.]\n",
      " [ 3.  7.  5.  4.  3.  0.]]\n"
     ]
    }
   ],
   "source": [
    "print(a)\n",
    "# array([[ 2.,  8.,  0.,  6.],\n",
    "#        [ 4.,  5.,  1.,  1.],\n",
    "#        [ 8.,  9.,  3.,  6.]])\n",
    "a.resize((2,6))\n",
    "print(a)\n",
    "# array([[ 2.,  8.,  0.,  6.,  4.,  5.],\n",
    "#        [ 1.,  1.,  8.,  9.,  3.,  6.]])"
   ]
  },
  {
   "cell_type": "code",
   "execution_count": 6,
   "metadata": {},
   "outputs": [
    {
     "name": "stdout",
     "output_type": "stream",
     "text": [
      "[[ 6.  9.  6.  5.]\n",
      " [ 0.  2.  3.  7.]\n",
      " [ 5.  4.  3.  0.]]\n"
     ]
    }
   ],
   "source": [
    "print(a.reshape(3,-1))\n",
    "# array([[ 2.,  8.,  0.,  6.],\n",
    "#        [ 4.,  5.,  1.,  1.],\n",
    "#        [ 8.,  9.,  3.,  6.]])"
   ]
  },
  {
   "cell_type": "code",
   "execution_count": 7,
   "metadata": {},
   "outputs": [
    {
     "name": "stdout",
     "output_type": "stream",
     "text": [
      "[[ 5.  8.]\n",
      " [ 5.  3.]]\n",
      "[[ 2.  1.]\n",
      " [ 3.  4.]]\n",
      "[[ 5.  8.]\n",
      " [ 5.  3.]\n",
      " [ 2.  1.]\n",
      " [ 3.  4.]]\n",
      "[[ 5.  8.  2.  1.]\n",
      " [ 5.  3.  3.  4.]]\n"
     ]
    }
   ],
   "source": [
    "# Stacking together different arrays==========\n",
    "a = np.floor(10*np.random.random((2,2)))\n",
    "print(a)\n",
    "# array([[ 8.,  8.],\n",
    "#        [ 0.,  0.]])\n",
    "b = np.floor(10*np.random.random((2,2)))\n",
    "print(b)\n",
    "# array([[ 1.,  8.],\n",
    "#        [ 0.,  4.]])\n",
    "print(np.vstack((a,b)))\n",
    "# array([[ 8.,  8.],\n",
    "#        [ 0.,  0.],\n",
    "#        [ 1.,  8.],\n",
    "#        [ 0.,  4.]])\n",
    "print(np.hstack((a,b)))\n",
    "# array([[ 8.,  8.,  1.,  8.],\n",
    "#        [ 0.,  0.,  0.,  4.]])"
   ]
  },
  {
   "cell_type": "code",
   "execution_count": 8,
   "metadata": {},
   "outputs": [
    {
     "name": "stdout",
     "output_type": "stream",
     "text": [
      "[[ 5.  8.  2.  1.]\n",
      " [ 5.  3.  3.  4.]]\n",
      "[[ 4.]\n",
      " [ 2.]]\n",
      "[[ 4.  2.]\n",
      " [ 2.  8.]]\n",
      "[[ 4.]\n",
      " [ 2.]\n",
      " [ 2.]\n",
      " [ 8.]]\n"
     ]
    }
   ],
   "source": [
    "from numpy import newaxis\n",
    "print(np.column_stack((a,b)))   # With 2D arrays\n",
    "# array([[ 8.,  8.,  1.,  8.],\n",
    "#        [ 0.,  0.,  0.,  4.]])\n",
    "a = np.array([4.,2.])\n",
    "b = np.array([2.,8.])\n",
    "print(a[:,newaxis])  # This allows to have a 2D columns vector\n",
    "# array([[ 4.],\n",
    "#        [ 2.]])\n",
    "print(np.column_stack((a[:,newaxis],b[:,newaxis])))\n",
    "# array([[ 4.,  2.],\n",
    "#        [ 2.,  8.]])\n",
    "print(np.vstack((a[:,newaxis],b[:,newaxis]))) # The behavior of vstack is different\n",
    "# array([[ 4.],\n",
    "#        [ 2.],\n",
    "#        [ 2.],\n",
    "#        [ 8.]])"
   ]
  },
  {
   "cell_type": "code",
   "execution_count": 9,
   "metadata": {},
   "outputs": [
    {
     "name": "stdout",
     "output_type": "stream",
     "text": [
      "[1 2 3 0 4]\n"
     ]
    }
   ],
   "source": [
    "print(np.r_[1:4,0,4])\n",
    "# array([1, 2, 3, 0, 4])"
   ]
  },
  {
   "cell_type": "code",
   "execution_count": 10,
   "metadata": {},
   "outputs": [
    {
     "name": "stdout",
     "output_type": "stream",
     "text": [
      "[[ 8.  9.  2.  8.  1.  3.  3.  0.  5.  3.  4.  9.]\n",
      " [ 2.  7.  8.  6.  1.  6.  4.  0.  1.  6.  8.  9.]]\n",
      "[array([[ 8.,  9.,  2.,  8.],\n",
      "       [ 2.,  7.,  8.,  6.]]), array([[ 1.,  3.,  3.,  0.],\n",
      "       [ 1.,  6.,  4.,  0.]]), array([[ 5.,  3.,  4.,  9.],\n",
      "       [ 1.,  6.,  8.,  9.]])]\n",
      "[array([[ 8.,  9.,  2.],\n",
      "       [ 2.,  7.,  8.]]), array([[ 8.],\n",
      "       [ 6.]]), array([[ 1.,  3.,  3.,  0.,  5.,  3.,  4.,  9.],\n",
      "       [ 1.,  6.,  4.,  0.,  1.,  6.,  8.,  9.]])]\n"
     ]
    }
   ],
   "source": [
    "# Splitting one array into several smaller ones\n",
    "a = np.floor(10*np.random.random((2,12)))\n",
    "print(a)\n",
    "# array([[ 9.,  5.,  6.,  3.,  6.,  8.,  0.,  7.,  9.,  7.,  2.,  7.],\n",
    "#        [ 1.,  4.,  9.,  2.,  2.,  1.,  0.,  6.,  2.,  2.,  4.,  0.]])\n",
    "print(np.hsplit(a,3))   # Split a into 3\n",
    "# [array([[ 9.,  5.,  6.,  3.],\n",
    "#        [ 1.,  4.,  9.,  2.]]), array([[ 6.,  8.,  0.,  7.],\n",
    "#        [ 2.,  1.,  0.,  6.]]), array([[ 9.,  7.,  2.,  7.],\n",
    "#        [ 2.,  2.,  4.,  0.]])]\n",
    "print(np.hsplit(a,(3,4)))   # Split a after the third and the fourth column\n",
    "# [array([[ 9.,  5.,  6.],\n",
    "#        [ 1.,  4.,  9.]]), array([[ 3.],\n",
    "#        [ 2.]]), array([[ 6.,  8.,  0.,  7.,  9.,  7.,  2.,  7.],\n",
    "#        [ 2.,  1.,  0.,  6.,  2.,  2.,  4.,  0.]])]"
   ]
  },
  {
   "cell_type": "code",
   "execution_count": null,
   "metadata": {
    "collapsed": true
   },
   "outputs": [],
   "source": []
  }
 ],
 "metadata": {
  "kernelspec": {
   "display_name": "Python 3",
   "language": "python",
   "name": "python3"
  },
  "language_info": {
   "codemirror_mode": {
    "name": "ipython",
    "version": 3
   },
   "file_extension": ".py",
   "mimetype": "text/x-python",
   "name": "python",
   "nbconvert_exporter": "python",
   "pygments_lexer": "ipython3",
   "version": "3.5.2"
  }
 },
 "nbformat": 4,
 "nbformat_minor": 2
}
