{
 "cells": [
  {
   "cell_type": "code",
   "execution_count": 16,
   "metadata": {
    "collapsed": true
   },
   "outputs": [],
   "source": [
    "\"\"\"\n",
    "Chapter_4. Fancy indexing and index tricks\n",
    "参考\n",
    "https://docs.scipy.org/doc/numpy-dev/user/quickstart.html\n",
    "\"\"\"\n",
    "import numpy as np\n",
    "import matplotlib.pyplot as plt"
   ]
  },
  {
   "cell_type": "code",
   "execution_count": 2,
   "metadata": {},
   "outputs": [
    {
     "name": "stdout",
     "output_type": "stream",
     "text": [
      "[ 1  1  9 64 25]\n",
      "[[ 9 16]\n",
      " [81 49]]\n"
     ]
    }
   ],
   "source": [
    "# Indexing with Arrays of Indices=====\n",
    "a = np.arange(12)**2                       # the first 12 square numbers\n",
    "i = np.array( [ 1,1,3,8,5 ] )              # an array of indices\n",
    "print(a[i])                                       # the elements of a at the positions i\n",
    "# array([ 1,  1,  9, 64, 25])\n",
    "\n",
    "j = np.array( [ [ 3, 4], [ 9, 7 ] ] )      # a bidimensional array of indices\n",
    "print(a[j])                                       # the same shape as j\n",
    "# array([[ 9, 16],\n",
    "#        [81, 49]])"
   ]
  },
  {
   "cell_type": "code",
   "execution_count": 3,
   "metadata": {},
   "outputs": [
    {
     "name": "stdout",
     "output_type": "stream",
     "text": [
      "[[[  0   0   0]\n",
      "  [255   0   0]\n",
      "  [  0 255   0]\n",
      "  [  0   0   0]]\n",
      "\n",
      " [[  0   0   0]\n",
      "  [  0   0 255]\n",
      "  [255 255 255]\n",
      "  [  0   0   0]]]\n"
     ]
    }
   ],
   "source": [
    "palette = np.array( [ [0,0,0],                # black\n",
    "                      [255,0,0],              # red\n",
    "                      [0,255,0],              # green\n",
    "                      [0,0,255],              # blue\n",
    "                      [255,255,255] ] )       # white\n",
    "image = np.array( [ [ 0, 1, 2, 0 ],           # each value corresponds to a color in the palette\n",
    "                    [ 0, 3, 4, 0 ]  ] )\n",
    "print(palette[image])                            # the (2,4,3) color image\n",
    "# array([[[  0,   0,   0],\n",
    "#         [255,   0,   0],\n",
    "#         [  0, 255,   0],\n",
    "#         [  0,   0,   0]],\n",
    "#        [[  0,   0,   0],\n",
    "#         [  0,   0, 255],\n",
    "#         [255, 255, 255],\n",
    "#         [  0,   0,   0]]])"
   ]
  },
  {
   "cell_type": "code",
   "execution_count": 4,
   "metadata": {},
   "outputs": [
    {
     "name": "stdout",
     "output_type": "stream",
     "text": [
      "[[ 0  1  2  3]\n",
      " [ 4  5  6  7]\n",
      " [ 8  9 10 11]]\n",
      "[[ 2  5]\n",
      " [ 7 11]]\n",
      "[[ 2  6]\n",
      " [ 6 10]]\n",
      "[[[ 2  1]\n",
      "  [ 3  3]]\n",
      "\n",
      " [[ 6  5]\n",
      "  [ 7  7]]\n",
      "\n",
      " [[10  9]\n",
      "  [11 11]]]\n"
     ]
    }
   ],
   "source": [
    "a = np.arange(12).reshape(3,4)\n",
    "print(a)\n",
    "# array([[ 0,  1,  2,  3],\n",
    "#        [ 4,  5,  6,  7],\n",
    "#        [ 8,  9, 10, 11]])\n",
    "i = np.array( [ [0,1],                        # indices for the first dim of a\n",
    "                [1,2] ] )\n",
    "j = np.array( [ [2,1],                        # indices for the second dim\n",
    "                [3,3] ] )\n",
    "\n",
    "print(a[i,j])                                     # i and j must have equal shape\n",
    "# array([[ 2,  5],\n",
    "#        [ 7, 11]])\n",
    "\n",
    "print(a[i,2])\n",
    "# array([[ 2,  6],\n",
    "#        [ 6, 10]])\n",
    "\n",
    "print(a[:,j])                                     # i.e., a[ : , j]\n",
    "# array([[[ 2,  1],\n",
    "#         [ 3,  3]],\n",
    "#        [[ 6,  5],\n",
    "#         [ 7,  7]],\n",
    "#        [[10,  9],\n",
    "#         [11, 11]]])"
   ]
  },
  {
   "cell_type": "code",
   "execution_count": 5,
   "metadata": {},
   "outputs": [
    {
     "name": "stdout",
     "output_type": "stream",
     "text": [
      "[[ 2  5]\n",
      " [ 7 11]]\n"
     ]
    }
   ],
   "source": [
    "l = [i,j]\n",
    "print(a[l])                                       # equivalent to a[i,j]\n",
    "# array([[ 2,  5],\n",
    "#        [ 7, 11]])"
   ]
  },
  {
   "cell_type": "code",
   "execution_count": 6,
   "metadata": {},
   "outputs": [
    {
     "name": "stdout",
     "output_type": "stream",
     "text": [
      "[[ 2  5]\n",
      " [ 7 11]]\n"
     ]
    }
   ],
   "source": [
    "s = np.array( [i,j] )\n",
    "print(a[tuple(s)])                                # same as a[i,j]\n",
    "# array([[ 2,  5],\n",
    "#        [ 7, 11]])"
   ]
  },
  {
   "cell_type": "code",
   "execution_count": 10,
   "metadata": {},
   "outputs": [
    {
     "name": "stdout",
     "output_type": "stream",
     "text": [
      "[  20.     51.25   82.5   113.75  145.  ]\n",
      "[[ 0.          0.84147098  0.90929743  0.14112001]\n",
      " [-0.7568025  -0.95892427 -0.2794155   0.6569866 ]\n",
      " [ 0.98935825  0.41211849 -0.54402111 -0.99999021]\n",
      " [-0.53657292  0.42016704  0.99060736  0.65028784]\n",
      " [-0.28790332 -0.96139749 -0.75098725  0.14987721]]\n",
      "[2 0 3 1]\n",
      "[  82.5    20.    113.75   51.25]\n",
      "[ 0.98935825  0.84147098  0.99060736  0.6569866 ]\n",
      "True\n"
     ]
    }
   ],
   "source": [
    "time = np.linspace(20, 145, 5)                 # time scale\n",
    "data = np.sin(np.arange(20)).reshape(5,4)      # 4 time-dependent series\n",
    "print(time)\n",
    "# array([  20.  ,   51.25,   82.5 ,  113.75,  145.  ])\n",
    "print(data)\n",
    "# array([[ 0.        ,  0.84147098,  0.90929743,  0.14112001],\n",
    "#        [-0.7568025 , -0.95892427, -0.2794155 ,  0.6569866 ],\n",
    "#        [ 0.98935825,  0.41211849, -0.54402111, -0.99999021],\n",
    "#        [-0.53657292,  0.42016704,  0.99060736,  0.65028784],\n",
    "#        [-0.28790332, -0.96139749, -0.75098725,  0.14987721]])\n",
    "\n",
    "ind = data.argmax(axis=0)                   # index of the maxima for each series\n",
    "print(ind)\n",
    "# array([2, 0, 3, 1])\n",
    "\n",
    "time_max = time[ ind]                       # times corresponding to the maxima\n",
    "\n",
    "data_max = data[ind, range(data.shape[1])] # => data[ind[0],0], data[ind[1],1]...\n",
    "\n",
    "print(time_max)\n",
    "# array([  82.5 ,   20.  ,  113.75,   51.25])\n",
    "print(data_max)\n",
    "# array([ 0.98935825,  0.84147098,  0.99060736,  0.6569866 ])\n",
    "\n",
    "print(np.all(data_max == data.max(axis=0)))\n",
    "# True"
   ]
  },
  {
   "cell_type": "code",
   "execution_count": 11,
   "metadata": {},
   "outputs": [
    {
     "name": "stdout",
     "output_type": "stream",
     "text": [
      "[0 1 2 3 4]\n",
      "[0 0 2 0 0]\n"
     ]
    }
   ],
   "source": [
    "a = np.arange(5)\n",
    "print(a)\n",
    "# array([0, 1, 2, 3, 4])\n",
    "a[[1,3,4]] = 0\n",
    "print(a)\n",
    "# array([0, 0, 2, 0, 0])"
   ]
  },
  {
   "cell_type": "code",
   "execution_count": 12,
   "metadata": {},
   "outputs": [
    {
     "name": "stdout",
     "output_type": "stream",
     "text": [
      "[2 1 3 3 4]\n"
     ]
    }
   ],
   "source": [
    "a = np.arange(5)\n",
    "a[[0,0,2]]=[1,2,3]\n",
    "print(a)\n",
    "# array([2, 1, 3, 3, 4])"
   ]
  },
  {
   "cell_type": "code",
   "execution_count": 13,
   "metadata": {},
   "outputs": [
    {
     "name": "stdout",
     "output_type": "stream",
     "text": [
      "[1 1 3 3 4]\n"
     ]
    }
   ],
   "source": [
    "a = np.arange(5)\n",
    "a[[0,0,2]]+=1\n",
    "print(a)\n",
    "# array([1, 1, 3, 3, 4])"
   ]
  },
  {
   "cell_type": "code",
   "execution_count": 14,
   "metadata": {},
   "outputs": [
    {
     "name": "stdout",
     "output_type": "stream",
     "text": [
      "[[False False False False]\n",
      " [False  True  True  True]\n",
      " [ True  True  True  True]]\n",
      "[ 5  6  7  8  9 10 11]\n"
     ]
    }
   ],
   "source": [
    "# Indexing with Boolean Arrays=============\n",
    "a = np.arange(12).reshape(3,4)\n",
    "b = a > 4\n",
    "print(b)                                          # b is a boolean with a's shape\n",
    "# array([[False, False, False, False],\n",
    "#        [False,  True,  True,  True],\n",
    "#        [ True,  True,  True,  True]], dtype=bool)\n",
    "print(a[b])                                       # 1d array with the selected elements\n",
    "# array([ 5,  6,  7,  8,  9, 10, 11])"
   ]
  },
  {
   "cell_type": "code",
   "execution_count": 15,
   "metadata": {},
   "outputs": [
    {
     "name": "stdout",
     "output_type": "stream",
     "text": [
      "[[0 1 2 3]\n",
      " [4 0 0 0]\n",
      " [0 0 0 0]]\n"
     ]
    }
   ],
   "source": [
    "a[b] = 0                                   # All elements of 'a' higher than 4 become 0\n",
    "print(a)\n",
    "# array([[0, 1, 2, 3],\n",
    "#        [4, 0, 0, 0],\n",
    "#        [0, 0, 0, 0]])"
   ]
  },
  {
   "cell_type": "code",
   "execution_count": 17,
   "metadata": {},
   "outputs": [
    {
     "data": {
      "image/png": "[encoded data removed]",
      "text/plain": [
       "<matplotlib.figure.Figure at 0x1081e7198>"
      ]
     },
     "metadata": {},
     "output_type": "display_data"
    }
   ],
   "source": [
    "def mandelbrot( h,w, maxit=20 ):\n",
    "    \"\"\"Returns an image of the Mandelbrot fractal of size (h,w).\"\"\"\n",
    "    y,x = np.ogrid[ -1.4:1.4:h*1j, -2:0.8:w*1j ]\n",
    "    c = x+y*1j\n",
    "    z = c\n",
    "    divtime = maxit + np.zeros(z.shape, dtype=int)\n",
    "\n",
    "    for i in range(maxit):\n",
    "        z = z**2 + c\n",
    "        diverge = z*np.conj(z) > 2**2            # who is diverging\n",
    "        div_now = diverge & (divtime==maxit)  # who is diverging now\n",
    "        divtime[div_now] = i                  # note when\n",
    "        z[diverge] = 2                        # avoid diverging too much\n",
    "\n",
    "    return divtime\n",
    "plt.imshow(mandelbrot(400,400))\n",
    "plt.show()"
   ]
  },
  {
   "cell_type": "code",
   "execution_count": 18,
   "metadata": {},
   "outputs": [
    {
     "name": "stdout",
     "output_type": "stream",
     "text": [
      "[[ 4  5  6  7]\n",
      " [ 8  9 10 11]]\n",
      "[[ 0  2]\n",
      " [ 4  6]\n",
      " [ 8 10]]\n",
      "[ 4 10]\n"
     ]
    }
   ],
   "source": [
    "a = np.arange(12).reshape(3,4)\n",
    "b1 = np.array([False,True,True])             # first dim selection\n",
    "b2 = np.array([True,False,True,False])       # second dim selection\n",
    "\n",
    "a[b1,:]                                   # selecting rows\n",
    "# array([[ 4,  5,  6,  7],\n",
    "#        [ 8,  9, 10, 11]])\n",
    "\n",
    "print(a[b1])                                     # same thing\n",
    "# array([[ 4,  5,  6,  7],\n",
    "#        [ 8,  9, 10, 11]])\n",
    "\n",
    "print(a[:,b2])                                   # selecting columns\n",
    "# array([[ 0,  2],\n",
    "#        [ 4,  6],\n",
    "#        [ 8, 10]])\n",
    "\n",
    "print(a[b1,b2])                                  # a weird thing to do\n",
    "# array([ 4, 10])"
   ]
  },
  {
   "cell_type": "code",
   "execution_count": 20,
   "metadata": {},
   "outputs": [
    {
     "name": "stdout",
     "output_type": "stream",
     "text": [
      "[[[2]]\n",
      "\n",
      " [[3]]\n",
      "\n",
      " [[4]]\n",
      "\n",
      " [[5]]]\n",
      "[[[8]\n",
      "  [5]\n",
      "  [4]]]\n",
      "[[[5 4 6 8 3]]]\n"
     ]
    }
   ],
   "source": [
    "# The ix_() function===========\n",
    "a = np.array([2,3,4,5])\n",
    "b = np.array([8,5,4])\n",
    "c = np.array([5,4,6,8,3])\n",
    "ax,bx,cx = np.ix_(a,b,c)\n",
    "print(ax)\n",
    "# array([[[2]],\n",
    "#        [[3]],\n",
    "#        [[4]],\n",
    "#        [[5]]])\n",
    "print(bx)\n",
    "# array([[[8],\n",
    "#         [5],\n",
    "#         [4]]])\n",
    "print(cx)\n",
    "# array([[[5, 4, 6, 8, 3]]])"
   ]
  },
  {
   "cell_type": "code",
   "execution_count": 21,
   "metadata": {},
   "outputs": [
    {
     "name": "stdout",
     "output_type": "stream",
     "text": [
      "(4, 1, 1)\n",
      "(1, 3, 1)\n",
      "(1, 1, 5)\n"
     ]
    }
   ],
   "source": [
    "print(ax.shape)\n",
    "print(bx.shape)\n",
    "print(cx.shape)\n",
    "# ((4, 1, 1)\n",
    "# (1, 3, 1)\n",
    "# (1, 1, 5))\n",
    "result = ax+bx*cx"
   ]
  },
  {
   "cell_type": "code",
   "execution_count": 22,
   "metadata": {},
   "outputs": [
    {
     "name": "stdout",
     "output_type": "stream",
     "text": [
      "[[[42 34 50 66 26]\n",
      "  [27 22 32 42 17]\n",
      "  [22 18 26 34 14]]\n",
      "\n",
      " [[43 35 51 67 27]\n",
      "  [28 23 33 43 18]\n",
      "  [23 19 27 35 15]]\n",
      "\n",
      " [[44 36 52 68 28]\n",
      "  [29 24 34 44 19]\n",
      "  [24 20 28 36 16]]\n",
      "\n",
      " [[45 37 53 69 29]\n",
      "  [30 25 35 45 20]\n",
      "  [25 21 29 37 17]]]\n",
      "17\n",
      "17\n"
     ]
    }
   ],
   "source": [
    "print(result)\n",
    "# array([[[42, 34, 50, 66, 26],\n",
    "#         [27, 22, 32, 42, 17],\n",
    "#         [22, 18, 26, 34, 14]],\n",
    "#        [[43, 35, 51, 67, 27],\n",
    "#         [28, 23, 33, 43, 18],\n",
    "#         [23, 19, 27, 35, 15]],\n",
    "#        [[44, 36, 52, 68, 28],\n",
    "#         [29, 24, 34, 44, 19],\n",
    "#         [24, 20, 28, 36, 16]],\n",
    "#        [[45, 37, 53, 69, 29],\n",
    "#         [30, 25, 35, 45, 20],\n",
    "#         [25, 21, 29, 37, 17]]])\n",
    "print(result[3,2,4])\n",
    "# 17\n",
    "print(a[3]+b[2]*c[4])\n",
    "# 17"
   ]
  },
  {
   "cell_type": "code",
   "execution_count": 23,
   "metadata": {
    "collapsed": true
   },
   "outputs": [],
   "source": [
    "def ufunc_reduce(ufct, *vectors):\n",
    "    vs = np.ix_(*vectors)\n",
    "    r = ufct.identity\n",
    "    for v in vs:\n",
    "        r = ufct(r,v)\n",
    "    return r"
   ]
  },
  {
   "cell_type": "code",
   "execution_count": 24,
   "metadata": {},
   "outputs": [
    {
     "data": {
      "text/plain": [
       "array([[[15, 14, 16, 18, 13],\n",
       "        [12, 11, 13, 15, 10],\n",
       "        [11, 10, 12, 14,  9]],\n",
       "\n",
       "       [[16, 15, 17, 19, 14],\n",
       "        [13, 12, 14, 16, 11],\n",
       "        [12, 11, 13, 15, 10]],\n",
       "\n",
       "       [[17, 16, 18, 20, 15],\n",
       "        [14, 13, 15, 17, 12],\n",
       "        [13, 12, 14, 16, 11]],\n",
       "\n",
       "       [[18, 17, 19, 21, 16],\n",
       "        [15, 14, 16, 18, 13],\n",
       "        [14, 13, 15, 17, 12]]])"
      ]
     },
     "execution_count": 24,
     "metadata": {},
     "output_type": "execute_result"
    }
   ],
   "source": [
    "ufunc_reduce(np.add,a,b,c)\n",
    "# array([[[15, 14, 16, 18, 13],\n",
    "#         [12, 11, 13, 15, 10],\n",
    "#         [11, 10, 12, 14,  9]],\n",
    "#        [[16, 15, 17, 19, 14],\n",
    "#         [13, 12, 14, 16, 11],\n",
    "#         [12, 11, 13, 15, 10]],\n",
    "#        [[17, 16, 18, 20, 15],\n",
    "#         [14, 13, 15, 17, 12],\n",
    "#         [13, 12, 14, 16, 11]],\n",
    "#        [[18, 17, 19, 21, 16],\n",
    "#         [15, 14, 16, 18, 13],\n",
    "#         [14, 13, 15, 17, 12]]])"
   ]
  },
  {
   "cell_type": "code",
   "execution_count": null,
   "metadata": {
    "collapsed": true
   },
   "outputs": [],
   "source": []
  }
 ],
 "metadata": {
  "kernelspec": {
   "display_name": "Python 3",
   "language": "python",
   "name": "python3"
  },
  "language_info": {
   "codemirror_mode": {
    "name": "ipython",
    "version": 3
   },
   "file_extension": ".py",
   "mimetype": "text/x-python",
   "name": "python",
   "nbconvert_exporter": "python",
   "pygments_lexer": "ipython3",
   "version": "3.5.2"
  }
 },
 "nbformat": 4,
 "nbformat_minor": 2
}
