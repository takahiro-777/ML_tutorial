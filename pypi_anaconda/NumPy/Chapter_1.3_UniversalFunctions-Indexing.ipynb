{
 "cells": [
  {
   "cell_type": "code",
   "execution_count": 1,
   "metadata": {
    "collapsed": true
   },
   "outputs": [],
   "source": [
    "\"\"\"\n",
    "Chapter_1_3. The Basics(Universal Functions ~ Indexing, Slicing and Iterating)\n",
    "参考\n",
    "https://docs.scipy.org/doc/numpy-dev/user/quickstart.html\n",
    "\"\"\"\n",
    "import numpy as np"
   ]
  },
  {
   "cell_type": "code",
   "execution_count": 2,
   "metadata": {},
   "outputs": [
    {
     "name": "stdout",
     "output_type": "stream",
     "text": [
      "[0 1 2]\n",
      "[ 1.          2.71828183  7.3890561 ]\n",
      "[ 0.          1.          1.41421356]\n",
      "[ 2.  0.  6.]\n"
     ]
    }
   ],
   "source": [
    "# Universal Functions==============\n",
    "B = np.arange(3)\n",
    "print(B)\n",
    "# array([0, 1, 2])\n",
    "print(np.exp(B))\n",
    "# array([ 1.        ,  2.71828183,  7.3890561 ])\n",
    "print(np.sqrt(B))\n",
    "# array([ 0.        ,  1.        ,  1.41421356])\n",
    "C = np.array([2., -1., 4.])\n",
    "print(np.add(B, C))\n",
    "# array([ 2.,  0.,  6.])"
   ]
  },
  {
   "cell_type": "code",
   "execution_count": 4,
   "metadata": {},
   "outputs": [
    {
     "name": "stdout",
     "output_type": "stream",
     "text": [
      "[  0   1   8  27  64 125 216 343 512 729]\n",
      "8\n",
      "[ 8 27 64]\n",
      "[-1000     1 -1000    27 -1000   125   216   343   512   729]\n",
      "[  729   512   343   216   125 -1000    27 -1000     1 -1000]\n"
     ]
    }
   ],
   "source": [
    "# Indexing, Slicing and Iterating=======\n",
    "a = np.arange(10)**3\n",
    "print(a)\n",
    "# array([  0,   1,   8,  27,  64, 125, 216, 343, 512, 729])\n",
    "print(a[2])\n",
    "# 8\n",
    "print(a[2:5])\n",
    "# array([ 8, 27, 64])\n",
    "a[:6:2] = -1000    # equivalent to a[0:6:2] = -1000; from start to position 6, exclusive, set every 2nd element to -1000\n",
    "print(a)\n",
    "# array([-1000,     1, -1000,    27, -1000,   125,   216,   343,   512,   729])\n",
    "print(a[ : :-1])                                 # reversed a\n",
    "# array([  729,   512,   343,   216,   125, -1000,    27, -1000,     1, -1000])"
   ]
  },
  {
   "cell_type": "code",
   "execution_count": 5,
   "metadata": {},
   "outputs": [
    {
     "name": "stdout",
     "output_type": "stream",
     "text": [
      "[[ 0  1  2  3]\n",
      " [10 11 12 13]\n",
      " [20 21 22 23]\n",
      " [30 31 32 33]\n",
      " [40 41 42 43]]\n",
      "23\n",
      "[ 1 11 21 31 41]\n",
      "[ 1 11 21 31 41]\n",
      "[[10 11 12 13]\n",
      " [20 21 22 23]]\n"
     ]
    }
   ],
   "source": [
    "def f(x,y):\n",
    "    return 10*x+y\n",
    "\n",
    "b = np.fromfunction(f,(5,4),dtype=int)\n",
    "print(b)\n",
    "# array([[ 0,  1,  2,  3],\n",
    "#        [10, 11, 12, 13],\n",
    "#        [20, 21, 22, 23],\n",
    "#        [30, 31, 32, 33],\n",
    "#        [40, 41, 42, 43]])\n",
    "print(b[2,3])\n",
    "# 23\n",
    "print(b[0:5, 1])                       # each row in the second column of b\n",
    "# array([ 1, 11, 21, 31, 41])\n",
    "print(b[ : ,1])                        # equivalent to the previous example\n",
    "# array([ 1, 11, 21, 31, 41])\n",
    "print(b[1:3, : ])                      # each column in the second and third row of b\n",
    "# array([[10, 11, 12, 13],\n",
    "#        [20, 21, 22, 23]])"
   ]
  },
  {
   "cell_type": "code",
   "execution_count": 6,
   "metadata": {},
   "outputs": [
    {
     "name": "stdout",
     "output_type": "stream",
     "text": [
      "[40 41 42 43]\n"
     ]
    }
   ],
   "source": [
    "print(b[-1])                                  # the last row. Equivalent to b[-1,:]\n",
    "# array([40, 41, 42, 43])"
   ]
  },
  {
   "cell_type": "code",
   "execution_count": 7,
   "metadata": {},
   "outputs": [
    {
     "name": "stdout",
     "output_type": "stream",
     "text": [
      "(2, 2, 3)\n",
      "[[100 101 102]\n",
      " [110 112 113]]\n",
      "[[  2  13]\n",
      " [102 113]]\n"
     ]
    }
   ],
   "source": [
    "c = np.array( [[[  0,  1,  2],               # a 3D array (two stacked 2D arrays)\n",
    "                [ 10, 12, 13]],\n",
    "               [[100,101,102],\n",
    "                [110,112,113]]])\n",
    "print(c.shape)\n",
    "# (2, 2, 3)\n",
    "print(c[1,...])                                   # same as c[1,:,:] or c[1]\n",
    "# array([[100, 101, 102],\n",
    "#        [110, 112, 113]])\n",
    "print(c[...,2])                                   # same as c[:,:,2]\n",
    "# array([[  2,  13],\n",
    "#        [102, 113]])"
   ]
  },
  {
   "cell_type": "code",
   "execution_count": 8,
   "metadata": {},
   "outputs": [
    {
     "name": "stdout",
     "output_type": "stream",
     "text": [
      "[0 1 2 3]\n",
      "[10 11 12 13]\n",
      "[20 21 22 23]\n",
      "[30 31 32 33]\n",
      "[40 41 42 43]\n"
     ]
    }
   ],
   "source": [
    "for row in b:\n",
    "    print(row)\n",
    "# [0 1 2 3]\n",
    "# [10 11 12 13]\n",
    "# [20 21 22 23]\n",
    "# [30 31 32 33]\n",
    "# [40 41 42 43]"
   ]
  },
  {
   "cell_type": "code",
   "execution_count": 9,
   "metadata": {},
   "outputs": [
    {
     "name": "stdout",
     "output_type": "stream",
     "text": [
      "0\n",
      "1\n",
      "2\n",
      "3\n",
      "10\n",
      "11\n",
      "12\n",
      "13\n",
      "20\n",
      "21\n",
      "22\n",
      "23\n",
      "30\n",
      "31\n",
      "32\n",
      "33\n",
      "40\n",
      "41\n",
      "42\n",
      "43\n"
     ]
    }
   ],
   "source": [
    "for element in b.flat:\n",
    "    print(element)\n",
    "\n",
    "# 0\n",
    "# 1\n",
    "# 2\n",
    "# 3\n",
    "# 10\n",
    "# 11\n",
    "# 12\n",
    "# 13\n",
    "# 20\n",
    "# 21\n",
    "# 22\n",
    "# 23\n",
    "# 30\n",
    "# 31\n",
    "# 32\n",
    "# 33\n",
    "# 40\n",
    "# 41\n",
    "# 42\n",
    "# 43"
   ]
  },
  {
   "cell_type": "code",
   "execution_count": null,
   "metadata": {
    "collapsed": true
   },
   "outputs": [],
   "source": []
  }
 ],
 "metadata": {
  "kernelspec": {
   "display_name": "Python 3",
   "language": "python",
   "name": "python3"
  },
  "language_info": {
   "codemirror_mode": {
    "name": "ipython",
    "version": 3
   },
   "file_extension": ".py",
   "mimetype": "text/x-python",
   "name": "python",
   "nbconvert_exporter": "python",
   "pygments_lexer": "ipython3",
   "version": "3.5.2"
  }
 },
 "nbformat": 4,
 "nbformat_minor": 2
}
