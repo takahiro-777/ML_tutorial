{
 "cells": [
  {
   "cell_type": "code",
   "execution_count": 1,
   "metadata": {
    "collapsed": true
   },
   "outputs": [],
   "source": [
    "\"\"\"\n",
    "Chapter_5. Linear Algebra\n",
    "参考\n",
    "https://docs.scipy.org/doc/numpy-dev/user/quickstart.html\n",
    "\"\"\"\n",
    "import numpy as np"
   ]
  },
  {
   "cell_type": "code",
   "execution_count": 2,
   "metadata": {},
   "outputs": [
    {
     "name": "stdout",
     "output_type": "stream",
     "text": [
      "[[ 1.  2.]\n",
      " [ 3.  4.]]\n",
      "[[ 1.  3.]\n",
      " [ 2.  4.]]\n"
     ]
    }
   ],
   "source": [
    "# Simple Array Operations==============\n",
    "a = np.array([[1.0, 2.0], [3.0, 4.0]])\n",
    "print(a)\n",
    "# [[ 1.  2.]\n",
    "#  [ 3.  4.]]\n",
    "\n",
    "print(a.transpose())\n",
    "# array([[ 1.,  3.],\n",
    "#        [ 2.,  4.]])"
   ]
  },
  {
   "cell_type": "code",
   "execution_count": 3,
   "metadata": {},
   "outputs": [
    {
     "name": "stdout",
     "output_type": "stream",
     "text": [
      "[[-2.   1. ]\n",
      " [ 1.5 -0.5]]\n",
      "[[ 1.  0.]\n",
      " [ 0.  1.]]\n"
     ]
    }
   ],
   "source": [
    "print(np.linalg.inv(a))\n",
    "# array([[-2. ,  1. ],\n",
    "#        [ 1.5, -0.5]])\n",
    "\n",
    "u = np.eye(2) # unit 2x2 matrix; \"eye\" represents \"I\"\n",
    "print(u)\n",
    "# array([[ 1.,  0.],\n",
    "#        [ 0.,  1.]])"
   ]
  },
  {
   "cell_type": "code",
   "execution_count": 4,
   "metadata": {},
   "outputs": [
    {
     "name": "stdout",
     "output_type": "stream",
     "text": [
      "[[-1.  0.]\n",
      " [ 0. -1.]]\n",
      "2.0\n"
     ]
    }
   ],
   "source": [
    "j = np.array([[0.0, -1.0], [1.0, 0.0]])\n",
    "\n",
    "print(np.dot (j, j)) # matrix product\n",
    "# array([[-1.,  0.],\n",
    "#        [ 0., -1.]])\n",
    "\n",
    "print(np.trace(u))  # trace\n",
    "# 2.0"
   ]
  },
  {
   "cell_type": "code",
   "execution_count": 5,
   "metadata": {},
   "outputs": [
    {
     "name": "stdout",
     "output_type": "stream",
     "text": [
      "[[-3.]\n",
      " [ 4.]]\n",
      "(array([ 0.+1.j,  0.-1.j]), array([[ 0.70710678+0.j        ,  0.70710678-0.j        ],\n",
      "       [ 0.00000000-0.70710678j,  0.00000000+0.70710678j]]))\n"
     ]
    }
   ],
   "source": [
    "y = np.array([[5.], [7.]])\n",
    "print(np.linalg.solve(a, y))\n",
    "# array([[-3.],\n",
    "#        [ 4.]])\n",
    "\n",
    "print(np.linalg.eig(j))\n",
    "# (array([ 0.+1.j,  0.-1.j]), array([[ 0.70710678+0.j        ,  0.70710678-0.j        ],\n",
    "#        [ 0.00000000-0.70710678j,  0.00000000+0.70710678j]]))"
   ]
  },
  {
   "cell_type": "code",
   "execution_count": null,
   "metadata": {
    "collapsed": true
   },
   "outputs": [],
   "source": []
  }
 ],
 "metadata": {
  "kernelspec": {
   "display_name": "Python 3",
   "language": "python",
   "name": "python3"
  },
  "language_info": {
   "codemirror_mode": {
    "name": "ipython",
    "version": 3
   },
   "file_extension": ".py",
   "mimetype": "text/x-python",
   "name": "python",
   "nbconvert_exporter": "python",
   "pygments_lexer": "ipython3",
   "version": "3.5.2"
  }
 },
 "nbformat": 4,
 "nbformat_minor": 2
}
