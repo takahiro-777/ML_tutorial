{
 "cells": [
  {
   "cell_type": "code",
   "execution_count": 1,
   "metadata": {
    "collapsed": true
   },
   "outputs": [],
   "source": [
    "\"\"\"\n",
    "Chapter_1_2. The Basics(Printing Arrays ~ Basic Operations)\n",
    "参考\n",
    "https://docs.scipy.org/doc/numpy-dev/user/quickstart.html\n",
    "\"\"\"\n",
    "import numpy as np\n",
    "from numpy import pi"
   ]
  },
  {
   "cell_type": "code",
   "execution_count": 2,
   "metadata": {},
   "outputs": [
    {
     "name": "stdout",
     "output_type": "stream",
     "text": [
      "[0 1 2 3 4 5]\n",
      "[[ 0  1  2]\n",
      " [ 3  4  5]\n",
      " [ 6  7  8]\n",
      " [ 9 10 11]]\n",
      "[[[ 0  1  2  3]\n",
      "  [ 4  5  6  7]\n",
      "  [ 8  9 10 11]]\n",
      "\n",
      " [[12 13 14 15]\n",
      "  [16 17 18 19]\n",
      "  [20 21 22 23]]]\n"
     ]
    }
   ],
   "source": [
    "# Printing Arrays==============\n",
    "a = np.arange(6)                         # 1d array\n",
    "print(a)\n",
    "# [0 1 2 3 4 5]\n",
    "\n",
    "b = np.arange(12).reshape(4,3)           # 2d array\n",
    "print(b)\n",
    "# [[ 0  1  2]\n",
    "#  [ 3  4  5]\n",
    "#  [ 6  7  8]\n",
    "#  [ 9 10 11]]\n",
    "\n",
    "c = np.arange(24).reshape(2,3,4)         # 3d array\n",
    "print(c)\n",
    "# [[[ 0  1  2  3]\n",
    "#   [ 4  5  6  7]\n",
    "#   [ 8  9 10 11]]\n",
    "#  [[12 13 14 15]\n",
    "#   [16 17 18 19]\n",
    "#   [20 21 22 23]]]"
   ]
  },
  {
   "cell_type": "code",
   "execution_count": 3,
   "metadata": {},
   "outputs": [
    {
     "name": "stdout",
     "output_type": "stream",
     "text": [
      "[   0    1    2 ..., 9997 9998 9999]\n",
      "[[   0    1    2 ...,   97   98   99]\n",
      " [ 100  101  102 ...,  197  198  199]\n",
      " [ 200  201  202 ...,  297  298  299]\n",
      " ..., \n",
      " [9700 9701 9702 ..., 9797 9798 9799]\n",
      " [9800 9801 9802 ..., 9897 9898 9899]\n",
      " [9900 9901 9902 ..., 9997 9998 9999]]\n"
     ]
    }
   ],
   "source": [
    "print(np.arange(10000))\n",
    "# [   0    1    2 ..., 9997 9998 9999]\n",
    "\n",
    "print(np.arange(10000).reshape(100,100))\n",
    "# [[   0    1    2 ...,   97   98   99]\n",
    "#  [ 100  101  102 ...,  197  198  199]\n",
    "#  [ 200  201  202 ...,  297  298  299]\n",
    "#  ...,\n",
    "#  [9700 9701 9702 ..., 9797 9798 9799]\n",
    "#  [9800 9801 9802 ..., 9897 9898 9899]\n",
    "#  [9900 9901 9902 ..., 9997 9998 9999]]"
   ]
  },
  {
   "cell_type": "code",
   "execution_count": 4,
   "metadata": {},
   "outputs": [
    {
     "name": "stdout",
     "output_type": "stream",
     "text": [
      "[0 1 2 3]\n",
      "[20 29 38 47]\n",
      "[0 1 4 9]\n",
      "[ 9.12945251 -9.88031624  7.4511316  -2.62374854]\n",
      "[ True  True False False]\n"
     ]
    }
   ],
   "source": [
    "# Basic Operations================\n",
    "a = np.array( [20,30,40,50] )\n",
    "b = np.arange( 4 )\n",
    "print(b)\n",
    "# array([0, 1, 2, 3])\n",
    "c = a-b\n",
    "print(c)\n",
    "# array([20, 29, 38, 47])\n",
    "print(b**2)\n",
    "# array([0, 1, 4, 9])\n",
    "print(10*np.sin(a))\n",
    "# array([ 9.12945251, -9.88031624,  7.4511316 , -2.62374854])\n",
    "print(a<35)\n",
    "# array([ True, True, False, False], dtype=bool)"
   ]
  },
  {
   "cell_type": "code",
   "execution_count": 5,
   "metadata": {},
   "outputs": [
    {
     "name": "stdout",
     "output_type": "stream",
     "text": [
      "[[2 0]\n",
      " [0 4]]\n",
      "[[5 4]\n",
      " [3 4]]\n",
      "[[5 4]\n",
      " [3 4]]\n"
     ]
    }
   ],
   "source": [
    "A = np.array( [[1,1],\n",
    "               [0,1]] )\n",
    "B = np.array( [[2,0],\n",
    "               [3,4]] )\n",
    "print(A*B)                         # elementwise product\n",
    "# array([[2, 0],\n",
    "#        [0, 4]])\n",
    "print(A.dot(B))                    # matrix product\n",
    "# array([[5, 4],\n",
    "#        [3, 4]])\n",
    "print(np.dot(A, B))                # another matrix product\n",
    "# array([[5, 4],\n",
    "#        [3, 4]])"
   ]
  },
  {
   "cell_type": "code",
   "execution_count": 6,
   "metadata": {},
   "outputs": [
    {
     "name": "stdout",
     "output_type": "stream",
     "text": [
      "[[3 3 3]\n",
      " [3 3 3]]\n",
      "[[ 3.5084616   3.47660058  3.26951565]\n",
      " [ 3.81208483  3.08906256  3.23180015]]\n"
     ]
    }
   ],
   "source": [
    "a = np.ones((2,3), dtype=int)\n",
    "b = np.random.random((2,3))\n",
    "a *= 3\n",
    "print(a)\n",
    "# array([[3, 3, 3],\n",
    "#        [3, 3, 3]])\n",
    "b += a\n",
    "print(b)\n",
    "# array([[ 3.417022  ,  3.72032449,  3.00011437],\n",
    "#        [ 3.30233257,  3.14675589,  3.09233859]])"
   ]
  },
  {
   "cell_type": "code",
   "execution_count": 7,
   "metadata": {},
   "outputs": [
    {
     "name": "stdout",
     "output_type": "stream",
     "text": [
      "float64\n",
      "[ 1.          2.57079633  4.14159265]\n",
      "float64\n",
      "[ 0.54030231+0.84147098j -0.84147098+0.54030231j -0.54030231-0.84147098j]\n",
      "complex128\n"
     ]
    }
   ],
   "source": [
    "a = np.ones(3, dtype=np.int32)\n",
    "b = np.linspace(0,pi,3)\n",
    "print(b.dtype.name)\n",
    "# 'float64'\n",
    "c = a+b\n",
    "print(c)\n",
    "# array([ 1.        ,  2.57079633,  4.14159265])\n",
    "print(c.dtype.name)\n",
    "# 'float64'\n",
    "d = np.exp(c*1j)\n",
    "print(d)\n",
    "# array([ 0.54030231+0.84147098j, -0.84147098+0.54030231j,\n",
    "#        -0.54030231-0.84147098j])\n",
    "print(d.dtype.name)\n",
    "# 'complex128'"
   ]
  },
  {
   "cell_type": "code",
   "execution_count": 8,
   "metadata": {},
   "outputs": [
    {
     "name": "stdout",
     "output_type": "stream",
     "text": [
      "[[ 0.01508242  0.69065173  0.10851424]\n",
      " [ 0.95085134  0.54735791  0.96561459]]\n",
      "3.2780722269\n",
      "0.0150824177551\n",
      "0.965614591237\n"
     ]
    }
   ],
   "source": [
    "a = np.random.random((2,3))\n",
    "print(a)\n",
    "# array([[ 0.18626021,  0.34556073,  0.39676747],\n",
    "#        [ 0.53881673,  0.41919451,  0.6852195 ]])\n",
    "print(a.sum())\n",
    "# 2.5718191614547998\n",
    "print(a.min())\n",
    "# 0.1862602113776709\n",
    "print(a.max())\n",
    "# 0.6852195003967595"
   ]
  },
  {
   "cell_type": "code",
   "execution_count": 9,
   "metadata": {},
   "outputs": [
    {
     "name": "stdout",
     "output_type": "stream",
     "text": [
      "[[ 0  1  2  3]\n",
      " [ 4  5  6  7]\n",
      " [ 8  9 10 11]]\n",
      "[12 15 18 21]\n",
      "[0 4 8]\n",
      "[[ 0  1  3  6]\n",
      " [ 4  9 15 22]\n",
      " [ 8 17 27 38]]\n"
     ]
    }
   ],
   "source": [
    "b = np.arange(12).reshape(3,4)\n",
    "print(b)\n",
    "# array([[ 0,  1,  2,  3],\n",
    "#        [ 4,  5,  6,  7],\n",
    "#        [ 8,  9, 10, 11]])\n",
    "\n",
    "print(b.sum(axis=0))                            # sum of each column\n",
    "# array([12, 15, 18, 21])\n",
    "\n",
    "print(b.min(axis=1))                            # min of each row\n",
    "# array([0, 4, 8])\n",
    "\n",
    "print(b.cumsum(axis=1))                         # cumulative sum along each row\n",
    "# array([[ 0,  1,  3,  6],\n",
    "#        [ 4,  9, 15, 22],\n",
    "#        [ 8, 17, 27, 38]])"
   ]
  },
  {
   "cell_type": "code",
   "execution_count": null,
   "metadata": {},
   "outputs": [],
   "source": []
  }
 ],
 "metadata": {
  "kernelspec": {
   "display_name": "Python 3",
   "language": "python",
   "name": "python3"
  },
  "language_info": {
   "codemirror_mode": {
    "name": "ipython",
    "version": 3
   },
   "file_extension": ".py",
   "mimetype": "text/x-python",
   "name": "python",
   "nbconvert_exporter": "python",
   "pygments_lexer": "ipython3",
   "version": "3.5.2"
  }
 },
 "nbformat": 4,
 "nbformat_minor": 2
}
