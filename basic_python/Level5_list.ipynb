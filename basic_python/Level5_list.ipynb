{
 "cells": [
  {
   "cell_type": "code",
   "execution_count": 1,
   "metadata": {},
   "outputs": [
    {
     "name": "stdout",
     "output_type": "stream",
     "text": [
      "Hello Python list!!\n"
     ]
    }
   ],
   "source": [
    "\"\"\"\n",
    "Level5. リスト(list)\n",
    "参考：　http://www.pythonweb.jp/tutorial/list/\n",
    "\"\"\"\n",
    "print(\"Hello Python list!!\")"
   ]
  },
  {
   "cell_type": "code",
   "execution_count": 1,
   "metadata": {},
   "outputs": [
    {
     "name": "stdout",
     "output_type": "stream",
     "text": [
      "[2005, 2006, 2007, 2008, 2009]\n",
      "['山田', '太郎', 1992, 12, 31, '男性']\n",
      "[10, [20, 16], [32, 34], 18]\n"
     ]
    }
   ],
   "source": [
    "# リストオブジェクト\n",
    "list1 = [2005, 2006, 2007, 2008, 2009]\n",
    "list2 = [u\"山田\", u\"太郎\", 1992, 12, 31, u\"男性\"]\n",
    "list3 = [10, [20, 16], [32, 34], 18]\n",
    "\n",
    "print(list1)\n",
    "print(list2)\n",
    "print(list3)"
   ]
  },
  {
   "cell_type": "code",
   "execution_count": 3,
   "metadata": {},
   "outputs": [
    {
     "name": "stdout",
     "output_type": "stream",
     "text": [
      "氏名: 山田太郎\n",
      "生年月日: 12/31\n",
      "性別: 男性\n"
     ]
    }
   ],
   "source": [
    "# 要素とインデックス\n",
    "plist = [u\"山田\", u\"太郎\", 12, 31, u\"男性\"]\n",
    "\n",
    "print(u\"氏名: \" + plist[0] + plist[1])\n",
    "print(u\"生年月日: \" + str(plist[2]) + \"/\" + str(plist[3]))\n",
    "print(u\"性別: \" + plist[4])"
   ]
  },
  {
   "cell_type": "code",
   "execution_count": 4,
   "metadata": {},
   "outputs": [
    {
     "name": "stdout",
     "output_type": "stream",
     "text": [
      "対象リスト ['A', 'B', 'C', 'D', 'E']\n",
      "[1:2]   ['B']\n",
      "[1:-1]  ['B', 'C', 'D']\n",
      "[1:]    ['B', 'C', 'D', 'E']\n",
      "[:2]    ['A', 'B']\n",
      "[:]     ['A', 'B', 'C', 'D', 'E']\n"
     ]
    }
   ],
   "source": [
    "# スライスを使用した部分文字列の取得\n",
    "list4 = [\"A\", \"B\", \"C\", \"D\", \"E\"]\n",
    "print(u\"対象リスト\", list4)\n",
    "\n",
    "print(\"[1:2]  \", list4[1:2])\n",
    "print(\"[1:-1] \", list4[1:-1])\n",
    "print(\"[1:]   \", list4[1:])\n",
    "print(\"[:2]   \", list4[:2])\n",
    "print(\"[:]    \", list4[:])"
   ]
  },
  {
   "cell_type": "code",
   "execution_count": 5,
   "metadata": {},
   "outputs": [
    {
     "name": "stdout",
     "output_type": "stream",
     "text": [
      "変更前 ['A', 'B', 'C', 'D', 'E']\n",
      "変更後 ['A', 'b', 'C', 'D', 'E']\n",
      "変更後 ['A', 'b', 'C', 'd', 'e']\n",
      "変更前 ['Tokyo', 'Osaka', 'Fukuoka']\n",
      "変更後 ['Tokyo', 'Osaka', 'Nagoya', 'Sapporo', 'Fukuoka']\n"
     ]
    }
   ],
   "source": [
    "# 要素の変更\n",
    "list5 = [\"A\", \"B\", \"C\", \"D\", \"E\"]\n",
    "print(u\"変更前\", list5)\n",
    "\n",
    "list5[1] = \"b\"\n",
    "print(u\"変更後\", list5)\n",
    "\n",
    "list5[3:5] = [\"d\", \"e\"]\n",
    "print(u\"変更後\", list5)\n",
    "\n",
    "preflist = [\"Tokyo\", \"Osaka\", \"Fukuoka\"]\n",
    "print(u\"変更前\", preflist)\n",
    "\n",
    "preflist[1:2] = [\"Osaka\", \"Nagoya\", \"Sapporo\"]\n",
    "print(u\"変更後\", preflist)"
   ]
  },
  {
   "cell_type": "code",
   "execution_count": 8,
   "metadata": {},
   "outputs": [
    {
     "name": "stdout",
     "output_type": "stream",
     "text": [
      "['A', 'B', 'C']\n",
      "要素数=3\n",
      "['A', 'B', 'b', 'C']\n",
      "要素数=4\n"
     ]
    }
   ],
   "source": [
    "# リストのサイズの取得(len関数)\n",
    "list6 = [\"A\", \"B\", \"C\"]\n",
    "print(list6)\n",
    "print(u\"要素数=\" + str(len(list6)))\n",
    "\n",
    "list6[1:2] = [\"B\", \"b\"]\n",
    "print(list6)\n",
    "print(u\"要素数=\" + str(len(list6)))"
   ]
  },
  {
   "cell_type": "code",
   "execution_count": 2,
   "metadata": {},
   "outputs": [
    {
     "name": "stdout",
     "output_type": "stream",
     "text": [
      "['A', 'B', 'C']\n",
      "['A', 'B', 'C', 'D', 'E']\n",
      "['A', 'B', 'C', 'D', 'E', ['D', 'E']]\n",
      "['A', 'B', 'C', 'D', 'E', ['D', 'E'], 'F']\n"
     ]
    }
   ],
   "source": [
    "# 要素の追加と連結(appendメソッド, extendメソッド)\n",
    "list7 = [\"A\", \"B\"]\n",
    "\n",
    "list7.append(\"C\")\n",
    "print(list7)\n",
    "\n",
    "list7.extend([\"D\", \"E\"])\n",
    "print(list7)\n",
    "\n",
    "list7_ = list7\n",
    "list7_.append([\"D\", \"E\"])\n",
    "print(list7_)\n",
    "\n",
    "newlist = list7 + [\"F\"]\n",
    "print(newlist)"
   ]
  },
  {
   "cell_type": "code",
   "execution_count": 10,
   "metadata": {},
   "outputs": [
    {
     "name": "stdout",
     "output_type": "stream",
     "text": [
      "['A', 'D', 'B', 'C']\n"
     ]
    }
   ],
   "source": [
    "# 要素の挿入(insertメソッド)\n",
    "list8 = [\"A\", \"B\", \"C\"]\n",
    "\n",
    "list8.insert(1, \"D\")\n",
    "print(list8)"
   ]
  },
  {
   "cell_type": "code",
   "execution_count": 12,
   "metadata": {},
   "outputs": [
    {
     "name": "stdout",
     "output_type": "stream",
     "text": [
      "['A', 'B', 'C', 'D', 'E', 'F']\n",
      "del(list9[1])\n",
      "['A', 'C', 'D', 'E', 'F']\n",
      "list9.pop(1)\n",
      "['A', 'D', 'E', 'F']\n",
      "list9.pop()\n",
      "['A', 'D', 'E']\n",
      "list9.remove(\"A\")\n",
      "['D', 'E']\n"
     ]
    }
   ],
   "source": [
    "# 要素の削除(del文, popメソッド, removeメソッド)\n",
    "list9 = [\"A\", \"B\", \"C\", \"D\", \"E\", \"F\"]\n",
    "print(list9)\n",
    "\n",
    "print(\"del(list9[1])\")\n",
    "del(list9[1])\n",
    "print(list9)\n",
    "\n",
    "print(\"list9.pop(1)\")\n",
    "list9.pop(1)\n",
    "print(list9)\n",
    "\n",
    "print(\"list9.pop()\")\n",
    "list9.pop()\n",
    "print(list9)\n",
    "\n",
    "print('list9.remove(\"A\")')\n",
    "list9.remove(\"A\")\n",
    "print(list9)"
   ]
  },
  {
   "cell_type": "code",
   "execution_count": 13,
   "metadata": {},
   "outputs": [
    {
     "name": "stdout",
     "output_type": "stream",
     "text": [
      "['A', 'B', 'C']\n",
      "list10[len(list10):] = \"D\"\n",
      "['A', 'B', 'C', 'D']\n",
      "list10[len(list10):] = [\"E\", \"F\"]\n",
      "['A', 'B', 'C', 'D', 'E', 'F']\n",
      "list10[1:1] = \"a\"\n",
      "['A', 'a', 'B', 'C', 'D', 'E', 'F']\n",
      "list10[1:4] = []\n",
      "['A', 'D', 'E', 'F']\n"
     ]
    }
   ],
   "source": [
    "# スライスを使った要素の追加/挿入/削除\n",
    "list10 = [\"A\", \"B\", \"C\"]\n",
    "print(list10)\n",
    "\n",
    "print('list10[len(list10):] = \"D\"')\n",
    "list10[len(list10):] = \"D\"\n",
    "print(list10)\n",
    "\n",
    "print('list10[len(list10):] = [\"E\", \"F\"]')\n",
    "list10[len(list10):] = [\"E\", \"F\"]\n",
    "print(list10)\n",
    "\n",
    "print('list10[1:1] = \"a\"')\n",
    "list10[1:1] = \"a\"\n",
    "print(list10)\n",
    "\n",
    "print('list10[1:4] = []')\n",
    "list10[1:4] = []\n",
    "print(list10)"
   ]
  },
  {
   "cell_type": "code",
   "execution_count": 15,
   "metadata": {},
   "outputs": [
    {
     "name": "stdout",
     "output_type": "stream",
     "text": [
      "['A', 'B', 'C', 'D', 'B']\n",
      "\"B\" in list11 True\n",
      "\"E\" in list11 False\n",
      "\"B\" not in list11 False\n",
      "\"E\" not in list11 True\n",
      "list11.index(\"B\") 1\n",
      "list11.count(\"B\") 2\n"
     ]
    }
   ],
   "source": [
    "# 要素の確認(in演算子, indexメソッド, countメソッド)\n",
    "list11 = [\"A\", \"B\", \"C\", \"D\", \"B\"]\n",
    "print(list11)\n",
    "\n",
    "print('\"B\" in list11', \"B\" in list11)\n",
    "print('\"E\" in list11', \"E\" in list11)\n",
    "print('\"B\" not in list11', \"B\" not in list11)\n",
    "print('\"E\" not in list11', \"E\" not in list11)\n",
    "\n",
    "if \"B\" in list11:\n",
    "    print('list11.index(\"B\")', list11.index(\"B\"))\n",
    "\n",
    "if \"B\" in list11:\n",
    "    print('list11.count(\"B\")', list11.count(\"B\"))"
   ]
  },
  {
   "cell_type": "code",
   "execution_count": 17,
   "metadata": {},
   "outputs": [
    {
     "name": "stdout",
     "output_type": "stream",
     "text": [
      "['B', 'D', 'E', 'A', 'C']\n",
      "list12.reverse()\n",
      "['C', 'A', 'E', 'D', 'B']\n",
      "list12.sort()\n",
      "['A', 'B', 'C', 'D', 'E']\n",
      "list12.reverse()\n",
      "['E', 'D', 'C', 'B', 'A']\n"
     ]
    }
   ],
   "source": [
    "# 要素のソート\n",
    "list12 = [\"B\", \"D\", \"E\", \"A\", \"C\"]\n",
    "print(list12)\n",
    "\n",
    "list12.reverse()\n",
    "print(\"list12.reverse()\")\n",
    "print(list12)\n",
    "\n",
    "print(\"list12.sort()\")\n",
    "list12.sort()\n",
    "print(list12)\n",
    "\n",
    "print(\"list12.reverse()\")\n",
    "list12.reverse()\n",
    "print(list12)"
   ]
  },
  {
   "cell_type": "code",
   "execution_count": 19,
   "metadata": {},
   "outputs": [
    {
     "name": "stdout",
     "output_type": "stream",
     "text": [
      "range(5) =  range(0, 5)\n",
      "range(2, 5) =  range(2, 5)\n",
      "range(1, 6, 2) =  range(1, 6, 2)\n",
      "range(0, -5, -2) =  range(0, -5, -2)\n"
     ]
    }
   ],
   "source": [
    "# 連続した数値の要素を持つリストの作成(range関数)\n",
    "list13 = range(5)\n",
    "print(\"range(5) = \", list13)\n",
    "\n",
    "list14 = range(2, 5)\n",
    "print(\"range(2, 5) = \", list14)\n",
    "\n",
    "list15 = range(1, 6, 2)\n",
    "print(\"range(1, 6, 2) = \", list15)\n",
    "\n",
    "list16 = range(0, -5, -2)\n",
    "print(\"range(0, -5, -2) = \", list16)"
   ]
  },
  {
   "cell_type": "code",
   "execution_count": 21,
   "metadata": {},
   "outputs": [
    {
     "name": "stdout",
     "output_type": "stream",
     "text": [
      "['A', 'B', 'C']\n",
      "[20, 18]\n",
      "['PHP', 'PERL']\n",
      "(74, 82, 59)\n",
      "[74, 82, 59]\n",
      "(59, 82, 74)\n"
     ]
    }
   ],
   "source": [
    "# シーケンス型のオブジェクトからリストを作成(list関数)\n",
    "print(list(\"ABC\"))\n",
    "print(list((20, 18)))\n",
    "\n",
    "l = [\"PHP\", \"PERL\"]\n",
    "print(list(l))\n",
    "\n",
    "t = (74, 82, 59)\n",
    "print(t)\n",
    "print(list(t))\n",
    "tmplist = list(t)\n",
    "tmplist.reverse()\n",
    "t = tuple(tmplist)\n",
    "print(t)"
   ]
  },
  {
   "cell_type": "code",
   "execution_count": 22,
   "metadata": {},
   "outputs": [
    {
     "name": "stdout",
     "output_type": "stream",
     "text": [
      "<zip object at 0x109384448>\n"
     ]
    }
   ],
   "source": [
    "# 複数のシーケンス型のオブジェクトからリストを作成(zip関数)\n",
    "list1 = [\"A\", \"B\"]\n",
    "list2 = [10, 20, 30, 40]\n",
    "str = \"Hello\"\n",
    "\n",
    "list3 = zip(list1, list2, str)\n",
    "print(list3)"
   ]
  },
  {
   "cell_type": "code",
   "execution_count": null,
   "metadata": {
    "collapsed": true
   },
   "outputs": [],
   "source": []
  }
 ],
 "metadata": {
  "kernelspec": {
   "display_name": "Python 3",
   "language": "python",
   "name": "python3"
  },
  "language_info": {
   "codemirror_mode": {
    "name": "ipython",
    "version": 3
   },
   "file_extension": ".py",
   "mimetype": "text/x-python",
   "name": "python",
   "nbconvert_exporter": "python",
   "pygments_lexer": "ipython3",
   "version": "3.5.2"
  }
 },
 "nbformat": 4,
 "nbformat_minor": 2
}
