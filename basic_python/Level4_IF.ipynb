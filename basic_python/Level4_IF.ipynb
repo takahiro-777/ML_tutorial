{
 "cells": [
  {
   "cell_type": "code",
   "execution_count": 2,
   "metadata": {},
   "outputs": [
    {
     "name": "stdout",
     "output_type": "stream",
     "text": [
      "Hello Python IF!!\n"
     ]
    }
   ],
   "source": [
    "\"\"\"\n",
    "Level4. 条件分岐(if)\n",
    "参考：　http://www.pythonweb.jp/tutorial/if/\n",
    "\"\"\"\n",
    "print(\"Hello Python IF!!\")"
   ]
  },
  {
   "cell_type": "code",
   "execution_count": 3,
   "metadata": {},
   "outputs": [
    {
     "name": "stdout",
     "output_type": "stream",
     "text": [
      "割り切れませんでした\n",
      "余りは 1 です\n"
     ]
    }
   ],
   "source": [
    "# if文\n",
    "amari = 10 % 3\n",
    "if amari != 0:\n",
    "    print(u\"割り切れませんでした\")\n",
    "    print(u\"余りは\", str(amari), u\"です\")"
   ]
  },
  {
   "cell_type": "code",
   "execution_count": 5,
   "metadata": {},
   "outputs": [
    {
     "name": "stdout",
     "output_type": "stream",
     "text": [
      "Start\n",
      "x is 0\n",
      "y is not 0\n",
      "End\n"
     ]
    }
   ],
   "source": [
    "# 複合文とブロック\n",
    "print(\"Start\")\n",
    "x = 0\n",
    "y = 1\n",
    "if x == 0:\n",
    "    print(\"x is 0\")\n",
    "    if y == 0:\n",
    "        print(\"y is 0\")\n",
    "    if y != 0:\n",
    "        print(\"y is not 0\")\n",
    "print(\"End\")"
   ]
  },
  {
   "cell_type": "code",
   "execution_count": 6,
   "metadata": {},
   "outputs": [
    {
     "name": "stdout",
     "output_type": "stream",
     "text": [
      "True =  True\n",
      "False =  False\n",
      "True + 3 =  4\n",
      "Always True\n"
     ]
    }
   ],
   "source": [
    "# 真(true)と偽(false)\n",
    "print(\"True = \", True)\n",
    "print(\"False = \", False)\n",
    "print(\"True + 3 = \", True + 3)\n",
    "if True:\n",
    "    print(\"Always True\")"
   ]
  },
  {
   "cell_type": "code",
   "execution_count": 7,
   "metadata": {},
   "outputs": [
    {
     "name": "stdout",
     "output_type": "stream",
     "text": [
      "num equal 20\n",
      "pref = Tokyo\n",
      "pref is over Tokyo\n"
     ]
    }
   ],
   "source": [
    "# 比較演算子\n",
    "num = 20\n",
    "if num == 20:\n",
    "    print(\"num equal 20\")\n",
    "pref = \"Tokyo\"\n",
    "if pref == \"Tokyo\":\n",
    "    print(\"pref = Tokyo\")\n",
    "pref = \"Tokyo\"\n",
    "if pref > \"Osaka\":\n",
    "    print(\"pref is over Tokyo\")"
   ]
  },
  {
   "cell_type": "code",
   "execution_count": 8,
   "metadata": {},
   "outputs": [
    {
     "name": "stdout",
     "output_type": "stream",
     "text": [
      "num1 == num2 True\n",
      "num1 is num2 True\n",
      "name1 == name2 True\n",
      "name1 is name2 False\n",
      "list1 == list2 True\n",
      "list1 is list2 False\n",
      "list1 == list2 True\n",
      "list1 is list2 True\n"
     ]
    }
   ],
   "source": [
    "# オブジェクトが同一かどうかの比較\n",
    "num1 = 10\n",
    "num2 = 10\n",
    "print(\"num1 == num2\", num1 == num2)\n",
    "print(\"num1 is num2\", num1 is num2)\n",
    "\n",
    "name1 = \"Hello, Yamashita.How are you doing?\"\n",
    "name2 = \"Hello, Yamashita.How are you doing?\"\n",
    "print(\"name1 == name2\", name1 == name2)\n",
    "print(\"name1 is name2\", name1 is name2)\n",
    "\n",
    "list1 = [1, 2, 3]\n",
    "list2 = [1, 2, 3]\n",
    "print(\"list1 == list2\", list1 == list2)\n",
    "print(\"list1 is list2\", list1 is list2)\n",
    "\n",
    "list1 = [1, 2, 3]\n",
    "list2 = list1\n",
    "print(\"list1 == list2\", list1 == list2)\n",
    "print(\"list1 is list2\", list1 is list2)"
   ]
  },
  {
   "cell_type": "code",
   "execution_count": 9,
   "metadata": {},
   "outputs": [
    {
     "name": "stdout",
     "output_type": "stream",
     "text": [
      "old is between 10 and 30\n",
      "old over 30 or pref is Tokyo\n",
      "old is not under 20\n"
     ]
    }
   ],
   "source": [
    "# 論理演算子\n",
    "old = 25\n",
    "if old > 10 and old < 30:\n",
    "    print(\"old is between 10 and 30\")\n",
    "\n",
    "pref = \"Tokyo\"\n",
    "if old > 30 or pref == \"Tokyo\":\n",
    "    print(\"old over 30 or pref is Tokyo\")\n",
    "\n",
    "if not old < 20:\n",
    "    print(\"old is not under 20\")"
   ]
  },
  {
   "cell_type": "code",
   "execution_count": 11,
   "metadata": {},
   "outputs": [
    {
     "name": "stdout",
     "output_type": "stream",
     "text": [
      "10 % 3\n",
      "割り切れませんでした\n",
      "余りは 1 です\n",
      "10 % 2\n",
      "割り切れました\n"
     ]
    }
   ],
   "source": [
    "# 条件式が偽の時の処理(if...else)\n",
    "amari = 10 % 3\n",
    "print(\"10 % 3\",)\n",
    "if amari != 0:\n",
    "    print(u\"割り切れませんでした\")\n",
    "    print(u\"余りは\", str(amari), u\"です\")\n",
    "else:\n",
    "    print(u\"割り切れました\")\n",
    "\n",
    "amari = 10 % 2\n",
    "print(\"10 % 2\",)\n",
    "if amari != 0:\n",
    "    print(u\"割り切れませんでした\")\n",
    "    print(u\"余りは\", str(amari), u\"です\")\n",
    "else:\n",
    "    print(u\"割り切れました\")"
   ]
  },
  {
   "cell_type": "code",
   "execution_count": 1,
   "metadata": {},
   "outputs": [
    {
     "name": "stdout",
     "output_type": "stream",
     "text": [
      "jpドメインは\n",
      "日本です\n",
      "comドメインは\n",
      "その他の国です\n"
     ]
    }
   ],
   "source": [
    "# 複数の条件分岐(if...elif...else)\n",
    "domain = \"jp\"\n",
    "print(domain + u\"ドメインは\",)\n",
    "if domain == \"jp\":\n",
    "    print(u\"日本です\")\n",
    "elif domain == \"kr\":\n",
    "    print(u\"韓国です\")\n",
    "elif domain == \"cn\":\n",
    "    print(u\"中国です\")\n",
    "else:\n",
    "    print(u\"その他の国です\")\n",
    "\n",
    "domain = \"com\"\n",
    "print(domain + u\"ドメインは\",)\n",
    "if domain == \"jp\":\n",
    "    print(u\"日本です\")\n",
    "elif domain == \"kr\":\n",
    "    print(u\"韓国です\")\n",
    "elif domain == \"cn\":\n",
    "    print(u\"中国です\")\n",
    "else:\n",
    "    print(u\"その他の国です\")"
   ]
  },
  {
   "cell_type": "code",
   "execution_count": null,
   "metadata": {
    "collapsed": true
   },
   "outputs": [],
   "source": []
  }
 ],
 "metadata": {
  "kernelspec": {
   "display_name": "Python 3",
   "language": "python",
   "name": "python3"
  },
  "language_info": {
   "codemirror_mode": {
    "name": "ipython",
    "version": 3
   },
   "file_extension": ".py",
   "mimetype": "text/x-python",
   "name": "python",
   "nbconvert_exporter": "python",
   "pygments_lexer": "ipython3",
   "version": "3.5.2"
  }
 },
 "nbformat": 4,
 "nbformat_minor": 2
}
