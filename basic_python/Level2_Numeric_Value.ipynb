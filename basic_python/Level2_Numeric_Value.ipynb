{
 "cells": [
  {
   "cell_type": "code",
   "execution_count": 2,
   "metadata": {},
   "outputs": [
    {
     "name": "stdout",
     "output_type": "stream",
     "text": [
      "Hello Python Numeric!!\n"
     ]
    }
   ],
   "source": [
    "\"\"\"\n",
    "Level2. 数値(Numeric Value)\n",
    "参考：　http://www.pythonweb.jp/tutorial/num/\n",
    "\"\"\"\n",
    "print(\"Hello Python Numeric!!\")"
   ]
  },
  {
   "cell_type": "code",
   "execution_count": 1,
   "metadata": {},
   "outputs": [
    {
     "name": "stdout",
     "output_type": "stream",
     "text": [
      "10\n",
      "314000000.0\n",
      "0.00127\n",
      "75\n",
      "79\n",
      "(3+4j)\n"
     ]
    }
   ],
   "source": [
    "# 数値リテラル\n",
    "print(10)\n",
    "print(3.14e8)\n",
    "print(1.27e-3)\n",
    "print(75)\n",
    "print(0x4F)\n",
    "print(3+4j)"
   ]
  },
  {
   "cell_type": "code",
   "execution_count": 5,
   "metadata": {},
   "outputs": [
    {
     "name": "stdout",
     "output_type": "stream",
     "text": [
      "10 + 8.0  =  18.0\n",
      "10 / 3    =  3.3333333333333335\n",
      "10 / 3.0  =  3.3333333333333335\n",
      "10.0 / 3  =  3.3333333333333335\n",
      "17 / 5    =  3.4\n",
      "-17 / 5   =  -3.4\n",
      "10.0 // 3 =  3.0\n",
      "10 // 3   =  3\n",
      "10 % 3    =  1\n",
      "5 ** 3    =  125\n"
     ]
    }
   ],
   "source": [
    "# 四則演算\n",
    "print(\"10 + 8.0  = \", 10 + 8.0)\n",
    "print(\"10 / 3    = \", 10 / 3)\n",
    "print(\"10 / 3.0  = \", 10 / 3.0)\n",
    "print(\"10.0 / 3  = \", 10.0 / 3)\n",
    "print(\"17 / 5    = \", 17 / 5)\n",
    "print(\"-17 / 5   = \", -17 / 5)\n",
    "print(\"10.0 // 3 = \", 10.0 // 3)\n",
    "print(\"10 // 3   = \", 10 // 3)\n",
    "print(\"10 % 3    = \", 10 % 3)\n",
    "print(\"5 ** 3    = \", 5 ** 3)"
   ]
  },
  {
   "cell_type": "code",
   "execution_count": 9,
   "metadata": {},
   "outputs": [
    {
     "name": "stdout",
     "output_type": "stream",
     "text": [
      "5 + 3 * 4 =  17\n",
      "(5 + 3) * 4 =  32\n",
      "2 * ((5 + 3 * 2) * 4 - (4 + 5) / 3) = 82.0\n"
     ]
    }
   ],
   "source": [
    "# 演算子の優先順位\n",
    "print(\"5 + 3 * 4 = \", 5 + 3 * 4)\n",
    "print(\"(5 + 3) * 4 = \", (5 + 3) * 4)\n",
    "print(\"2 * ((5 + 3 * 2) * 4 - (4 + 5) / 3) = \"+ str(2 * ((5 + 3 * 2) * 4 - (4 + 5) / 3)))"
   ]
  },
  {
   "cell_type": "code",
   "execution_count": 10,
   "metadata": {},
   "outputs": [
    {
     "name": "stdout",
     "output_type": "stream",
     "text": [
      "11 & 14 =  10\n",
      "10 | 12 =  14\n",
      "10 ^ 12 =  6\n",
      "~ 10 =  -11\n"
     ]
    }
   ],
   "source": [
    "# ビット演算子\n",
    "print(\"11 & 14 = \", 11 & 14)\n",
    "print(\"10 | 12 = \", 10 | 12)\n",
    "print(\"10 ^ 12 = \", 10 ^ 12)\n",
    "print(\"~ 10 = \", ~ 10)"
   ]
  },
  {
   "cell_type": "code",
   "execution_count": 11,
   "metadata": {},
   "outputs": [
    {
     "name": "stdout",
     "output_type": "stream",
     "text": [
      "11 << 1 =  22\n",
      "11 >> 1 =  5\n",
      "-10 >> 1 =  -5\n"
     ]
    }
   ],
   "source": [
    "# シフト演算子\n",
    "print(\"11 << 1 = \", 11 << 1)\n",
    "print(\"11 >> 1 = \", 11 >> 1)\n",
    "print(\"-10 >> 1 = \", -10 >> 1)"
   ]
  },
  {
   "cell_type": "code",
   "execution_count": 12,
   "metadata": {},
   "outputs": [
    {
     "name": "stdout",
     "output_type": "stream",
     "text": [
      "int(\"14\") =  14\n",
      "int(\"14\", 10) =  14\n",
      "int(\"14\", 8) =  12\n",
      "int(\"14\", 16) =  20\n",
      "int(\"3F\", 16) =  63\n",
      "int(14) =  14\n",
      "int(16.8) =  16\n",
      "int(-7.2) =  -7\n"
     ]
    }
   ],
   "source": [
    "# 文字列及び数値を整数に変換(int)\n",
    "print('int(\"14\") = ', int(\"14\"))\n",
    "print('int(\"14\", 10) = ', int(\"14\", 10))\n",
    "print('int(\"14\", 8) = ', int(\"14\", 8))\n",
    "print('int(\"14\", 16) = ', int(\"14\", 16))\n",
    "print('int(\"3F\", 16) = ', int(\"3F\", 16))\n",
    "\n",
    "print('int(14) = ', int(14))\n",
    "print('int(16.8) = ', int(16.8))\n",
    "print('int(-7.2) = ', int(-7.2))"
   ]
  },
  {
   "cell_type": "code",
   "execution_count": null,
   "metadata": {
    "collapsed": true
   },
   "outputs": [],
   "source": []
  }
 ],
 "metadata": {
  "kernelspec": {
   "display_name": "Python 3",
   "language": "python",
   "name": "python3"
  },
  "language_info": {
   "codemirror_mode": {
    "name": "ipython",
    "version": 3
   },
   "file_extension": ".py",
   "mimetype": "text/x-python",
   "name": "python",
   "nbconvert_exporter": "python",
   "pygments_lexer": "ipython3",
   "version": "3.5.2"
  }
 },
 "nbformat": 4,
 "nbformat_minor": 2
}
