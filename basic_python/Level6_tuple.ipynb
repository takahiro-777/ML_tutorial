{
 "cells": [
  {
   "cell_type": "code",
   "execution_count": 6,
   "metadata": {},
   "outputs": [
    {
     "name": "stdout",
     "output_type": "stream",
     "text": [
      "Hello Python tuple!!\n"
     ]
    }
   ],
   "source": [
    "\"\"\"\n",
    "Level6. タプル(tuple)\n",
    "参考：　http://www.pythonweb.jp/tutorial/tuple/\n",
    "\"\"\"\n",
    "print(\"Hello Python tuple!!\")"
   ]
  },
  {
   "cell_type": "code",
   "execution_count": 7,
   "metadata": {},
   "outputs": [
    {
     "name": "stdout",
     "output_type": "stream",
     "text": [
      "10\n",
      "(10,)\n",
      "JP\n",
      "('JP',)\n",
      "('A', 'B')\n"
     ]
    }
   ],
   "source": [
    "# タプルオブジェクト\n",
    "print((10))\n",
    "print((10,))\n",
    "print((\"JP\"))\n",
    "print((\"JP\",))\n",
    "\n",
    "t = \"A\", \"B\"\n",
    "print(t)"
   ]
  },
  {
   "cell_type": "code",
   "execution_count": 8,
   "metadata": {},
   "outputs": [
    {
     "name": "stdout",
     "output_type": "stream",
     "text": [
      "A\n",
      "B\n",
      "C\n",
      "D\n"
     ]
    }
   ],
   "source": [
    "# 要素の取得\n",
    "tuple1 = (\"A\", \"B\", \"C\", \"D\")\n",
    "\n",
    "print(tuple1[0])\n",
    "print(tuple1[1])\n",
    "print(tuple1[2])\n",
    "print(tuple1[3])"
   ]
  },
  {
   "cell_type": "code",
   "execution_count": 9,
   "metadata": {},
   "outputs": [
    {
     "name": "stdout",
     "output_type": "stream",
     "text": [
      "('B', 'C')\n",
      "('B', 'C', 'D')\n",
      "('A', 'B')\n"
     ]
    }
   ],
   "source": [
    "# スライスを使い一部分を新しいタプルとして取得\n",
    "tuple2 = (\"A\", \"B\", \"C\", \"D\")\n",
    "\n",
    "print(tuple2[1:3])\n",
    "print(tuple2[1:])\n",
    "print(tuple2[:2])"
   ]
  },
  {
   "cell_type": "code",
   "execution_count": 10,
   "metadata": {},
   "outputs": [
    {
     "name": "stdout",
     "output_type": "stream",
     "text": [
      "('A', 'B', 'C', 'D')\n",
      "要素数=4\n",
      "('A', 'B', ('c', 'C'), 'D')\n",
      "要素数=4\n"
     ]
    }
   ],
   "source": [
    "# タプルのサイズの取得(len関数)\n",
    "tuple3 = (\"A\", \"B\", \"C\", \"D\")\n",
    "print(tuple3)\n",
    "\n",
    "print(u\"要素数=\" + str(len(tuple3)))\n",
    "\n",
    "tuple4 = (\"A\", \"B\", (\"c\", \"C\"), \"D\")\n",
    "print(tuple4)\n",
    "\n",
    "print(u\"要素数=\" + str(len(tuple4)))"
   ]
  },
  {
   "cell_type": "code",
   "execution_count": 11,
   "metadata": {},
   "outputs": [
    {
     "name": "stdout",
     "output_type": "stream",
     "text": [
      "('A', 'B', 'C', 'D', 'E')\n",
      "('A', 'B', 'C', 'A', 'B', 'C', 'A', 'B', 'C')\n"
     ]
    }
   ],
   "source": [
    "# タプルの連結と繰り返し\n",
    "tuple5 = (\"A\", \"B\", \"C\")\n",
    "\n",
    "newtuple = tuple5 + (\"D\", \"E\")\n",
    "print(newtuple)\n",
    "\n",
    "repeattuple = tuple5 * 3\n",
    "print(repeattuple)"
   ]
  },
  {
   "cell_type": "code",
   "execution_count": 12,
   "metadata": {},
   "outputs": [
    {
     "name": "stdout",
     "output_type": "stream",
     "text": [
      "('A', 'B', 'C')\n",
      "(20, 18)\n",
      "('PHP', 'PERL')\n",
      "('A', 'B', 'C')\n"
     ]
    }
   ],
   "source": [
    "# シーケンス型のオブジェクトからタプルを作成(tuple関数)\n",
    "print(tuple(\"ABC\"))\n",
    "print(tuple([20, 18]))\n",
    "\n",
    "t = (\"PHP\", \"PERL\")\n",
    "print(tuple(t))\n",
    "\n",
    "t = (\"B\", \"C\", \"A\")\n",
    "tmplist = list(t)\n",
    "tmplist.sort()\n",
    "t = tuple(tmplist)\n",
    "print(t)"
   ]
  },
  {
   "cell_type": "code",
   "execution_count": null,
   "metadata": {
    "collapsed": true
   },
   "outputs": [],
   "source": []
  }
 ],
 "metadata": {
  "kernelspec": {
   "display_name": "Python 3",
   "language": "python",
   "name": "python3"
  },
  "language_info": {
   "codemirror_mode": {
    "name": "ipython",
    "version": 3
   },
   "file_extension": ".py",
   "mimetype": "text/x-python",
   "name": "python",
   "nbconvert_exporter": "python",
   "pygments_lexer": "ipython3",
   "version": "3.5.2"
  }
 },
 "nbformat": 4,
 "nbformat_minor": 2
}
