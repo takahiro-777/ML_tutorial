{
 "cells": [
  {
   "cell_type": "code",
   "execution_count": 1,
   "metadata": {},
   "outputs": [
    {
     "name": "stdout",
     "output_type": "stream",
     "text": [
      "Hello Python dictionary!!\n"
     ]
    }
   ],
   "source": [
    "\"\"\"\n",
    "Level7. 辞書(dictionary)\n",
    "参考：　http://www.pythonweb.jp/tutorial/dictionary/\n",
    "\"\"\"\n",
    "print(\"Hello Python dictionary!!\")"
   ]
  },
  {
   "cell_type": "code",
   "execution_count": 2,
   "metadata": {},
   "outputs": [
    {
     "name": "stdout",
     "output_type": "stream",
     "text": [
      "{'yamada': 75, 'endou': 82, 'itou': 64}\n"
     ]
    }
   ],
   "source": [
    "# 辞書オブジェクト\n",
    "dict1 = {\"itou\":64, \"yamada\":75, \"endou\":82}\n",
    "print(dict1)"
   ]
  },
  {
   "cell_type": "code",
   "execution_count": 3,
   "metadata": {},
   "outputs": [
    {
     "name": "stdout",
     "output_type": "stream",
     "text": [
      "64\n",
      "75\n",
      "82\n"
     ]
    }
   ],
   "source": [
    "# キーの指定と値の取得\n",
    "dict2 = {\"itou\":64, \"yamada\":75, \"endou\":82}\n",
    "print(dict2[\"itou\"])\n",
    "print(dict2[\"yamada\"])\n",
    "print(dict2[\"endou\"])"
   ]
  },
  {
   "cell_type": "code",
   "execution_count": 4,
   "metadata": {},
   "outputs": [
    {
     "name": "stdout",
     "output_type": "stream",
     "text": [
      "{'yamada': 75, 'endou': 82, 'itou': 64}\n",
      "dict3[\"yamada\"] = 78\n",
      "{'yamada': 78, 'endou': 82, 'itou': 64}\n"
     ]
    }
   ],
   "source": [
    "# 値の変更\n",
    "dict3 = {\"itou\":64, \"yamada\":75, \"endou\":82}\n",
    "print(dict3)\n",
    "\n",
    "print('dict3[\"yamada\"] = 78')\n",
    "dict3[\"yamada\"] = 78\n",
    "print(dict3)"
   ]
  },
  {
   "cell_type": "code",
   "execution_count": 5,
   "metadata": {},
   "outputs": [
    {
     "name": "stdout",
     "output_type": "stream",
     "text": [
      "{'yamada': 75, 'endou': 82}\n",
      "要素数=2\n"
     ]
    }
   ],
   "source": [
    "# 辞書のサイズの取得(len関数)\n",
    "dict4 = {\"yamada\":75, \"endou\":82}\n",
    "print(dict4)\n",
    "print(u\"要素数=\" + str(len(dict4)))"
   ]
  },
  {
   "cell_type": "code",
   "execution_count": 6,
   "metadata": {},
   "outputs": [
    {
     "name": "stdout",
     "output_type": "stream",
     "text": [
      "{'yamada': 75, 'endou': 82}\n",
      "dict5[\"itou\"] = 89\n",
      "{'yamada': 75, 'endou': 82, 'itou': 89}\n",
      "要素数=3\n",
      "{'yamada': 75, 'endou': 92, 'honda': 52, 'itou': 89}\n"
     ]
    }
   ],
   "source": [
    "# 要素の追加と連結(updateメソッド)\n",
    "dict5 = {\"yamada\":75, \"endou\":82}\n",
    "print(dict5)\n",
    "\n",
    "print('dict5[\"itou\"] = 89')\n",
    "dict5[\"itou\"] = 89\n",
    "print(dict5)\n",
    "print(u\"要素数=\" + str(len(dict5)))\n",
    "\n",
    "dict5.update({\"honda\":52, \"endou\":92})\n",
    "print(dict5)"
   ]
  },
  {
   "cell_type": "code",
   "execution_count": 7,
   "metadata": {},
   "outputs": [
    {
     "name": "stdout",
     "output_type": "stream",
     "text": [
      "{'yamada': 75, 'endou': 82}\n",
      "del dict6[\"endou\"]\n",
      "{'yamada': 75, 'endou': 82}\n",
      "dict.pop(\"yamada\")\n",
      "削除された要素の値は75です\n",
      "dict6.pop(\"yamada\", \"none\")\n",
      "削除された要素の値はnoneです\n",
      "{'yamada': 75, 'endou': 82, 'itou': 76}\n",
      "<class 'tuple'>\n",
      "<class 'tuple'>\n",
      "<class 'tuple'>\n"
     ]
    }
   ],
   "source": [
    "# 要素の削除(del文, popメソッド, popitemメソッド, clearメソッド)\n",
    "dict6 = {\"yamada\":75, \"endou\":82}\n",
    "print(dict6)\n",
    "\n",
    "print('del dict6[\"endou\"]')\n",
    "del dict6[\"endou\"]\n",
    "\n",
    "dict6 = {\"yamada\":75, \"endou\":82}\n",
    "print(dict6)\n",
    "\n",
    "print('dict.pop(\"yamada\")')\n",
    "val = dict6.pop(\"yamada\")\n",
    "print(u\"削除された要素の値は\" + str(val) + u\"です\")\n",
    "\n",
    "print('dict6.pop(\"yamada\", \"none\")')\n",
    "val = dict6.pop(\"yamada\", \"none\")\n",
    "print(u\"削除された要素の値は\" + str(val) + u\"です\")\n",
    "\n",
    "dict6 = {\"yamada\":75, \"endou\":82, \"itou\":76}\n",
    "print(dict6)\n",
    "\n",
    "while dict6:\n",
    "    tuple6 = dict6.popitem()\n",
    "    print(tuple)"
   ]
  },
  {
   "cell_type": "code",
   "execution_count": 11,
   "metadata": {},
   "outputs": [
    {
     "name": "stdout",
     "output_type": "stream",
     "text": [
      "dict_keys(['yamada', 'endou'])\n",
      "dict_values([75, 82])\n",
      "dict_items([('yamada', 75), ('endou', 82)])\n"
     ]
    }
   ],
   "source": [
    "# キーと値のリストを取得(keysメソッド, valuesメソッド, itemsメソッド)\n",
    "dict7 = {\"yamada\":75, \"endou\":82}\n",
    "\n",
    "print(dict7.keys())\n",
    "print(dict7.values())\n",
    "print(dict7.items())"
   ]
  },
  {
   "cell_type": "code",
   "execution_count": null,
   "metadata": {
    "collapsed": true
   },
   "outputs": [],
   "source": []
  }
 ],
 "metadata": {
  "kernelspec": {
   "display_name": "Python 3",
   "language": "python",
   "name": "python3"
  },
  "language_info": {
   "codemirror_mode": {
    "name": "ipython",
    "version": 3
   },
   "file_extension": ".py",
   "mimetype": "text/x-python",
   "name": "python",
   "nbconvert_exporter": "python",
   "pygments_lexer": "ipython3",
   "version": "3.5.2"
  }
 },
 "nbformat": 4,
 "nbformat_minor": 2
}
