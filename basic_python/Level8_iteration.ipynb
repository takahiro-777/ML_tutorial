{
 "cells": [
  {
   "cell_type": "code",
   "execution_count": 1,
   "metadata": {},
   "outputs": [
    {
     "name": "stdout",
     "output_type": "stream",
     "text": [
      "Hello Python for and while!!\n"
     ]
    }
   ],
   "source": [
    "\"\"\"\n",
    "Level8. 繰り返し(for & while)\n",
    "参考：　http://www.pythonweb.jp/tutorial/for/\n",
    "\"\"\"\n",
    "print(\"Hello Python for and while!!\")"
   ]
  },
  {
   "cell_type": "code",
   "execution_count": 2,
   "metadata": {},
   "outputs": [
    {
     "name": "stdout",
     "output_type": "stream",
     "text": [
      "繰り返し開始\n",
      "num = 0\n",
      "num = 1\n",
      "num = 2\n",
      "num = 3\n",
      "num = 4\n",
      "繰り返し終了\n"
     ]
    }
   ],
   "source": [
    "# while文\n",
    "num = 0\n",
    "\n",
    "print(u\"繰り返し開始\")\n",
    "\n",
    "while num < 5:\n",
    "    print(\"num = \" + str(num))\n",
    "    num += 1\n",
    "\n",
    "print(u\"繰り返し終了\")"
   ]
  },
  {
   "cell_type": "code",
   "execution_count": 3,
   "metadata": {},
   "outputs": [
    {
     "name": "stdout",
     "output_type": "stream",
     "text": [
      "num = 4\n",
      "num = 3\n",
      "num = 12\n",
      "End\n",
      "H\n",
      "e\n",
      "l\n",
      "l\n",
      "o\n",
      "End\n"
     ]
    }
   ],
   "source": [
    "# for文\n",
    "for num in [4, 3, 12]:\n",
    "    print(\"num = \" + str(num))\n",
    "print(\"End\")\n",
    "\n",
    "for str1 in \"Hello\":\n",
    "    print(str1)\n",
    "print(\"End\")"
   ]
  },
  {
   "cell_type": "code",
   "execution_count": 4,
   "metadata": {},
   "outputs": [
    {
     "name": "stdout",
     "output_type": "stream",
     "text": [
      "sum = 500500\n"
     ]
    }
   ],
   "source": [
    "# for文とrange関数を使った指定回数の繰り返し\n",
    "sum1 = 0\n",
    "for num in range(1, 1001):\n",
    "    sum1 += num\n",
    "\n",
    "print(\"sum = \" + str(sum1))"
   ]
  },
  {
   "cell_type": "code",
   "execution_count": null,
   "metadata": {
    "collapsed": true
   },
   "outputs": [],
   "source": []
  }
 ],
 "metadata": {
  "kernelspec": {
   "display_name": "Python 3",
   "language": "python",
   "name": "python3"
  },
  "language_info": {
   "codemirror_mode": {
    "name": "ipython",
    "version": 3
   },
   "file_extension": ".py",
   "mimetype": "text/x-python",
   "name": "python",
   "nbconvert_exporter": "python",
   "pygments_lexer": "ipython3",
   "version": "3.5.2"
  }
 },
 "nbformat": 4,
 "nbformat_minor": 2
}
