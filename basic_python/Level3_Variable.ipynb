{
 "cells": [
  {
   "cell_type": "code",
   "execution_count": 1,
   "metadata": {},
   "outputs": [
    {
     "name": "stdout",
     "output_type": "stream",
     "text": [
      "Hello Python Variable!!\n"
     ]
    }
   ],
   "source": [
    "\"\"\"\n",
    "Level3. 変数(Variable)\n",
    "参考：　http://www.pythonweb.jp/tutorial/var/\n",
    "\"\"\"\n",
    "print(\"Hello Python Variable!!\")"
   ]
  },
  {
   "cell_type": "code",
   "execution_count": 2,
   "metadata": {},
   "outputs": [
    {
     "name": "stdout",
     "output_type": "stream",
     "text": [
      "Hello\n",
      "55\n"
     ]
    }
   ],
   "source": [
    "# 変数への代入\n",
    "msg = \"Hello\"\n",
    "print(msg)\n",
    "sum = 10 + 45\n",
    "print(sum)"
   ]
  },
  {
   "cell_type": "code",
   "execution_count": 3,
   "metadata": {},
   "outputs": [
    {
     "name": "stdout",
     "output_type": "stream",
     "text": [
      "名前;佐藤\n",
      "年齢:31\n",
      "識別番号:115\n",
      "出身地:札幌市\n"
     ]
    }
   ],
   "source": [
    "# 変数名の付け方 (http://www.pythonweb.jp/tutorial/var/index2.html)\n",
    "name = u\"佐藤\"\n",
    "old = 31\n",
    "code_no = 115\n",
    "cityName = u\"札幌市\"\n",
    "\n",
    "print(u\"名前;\" + name)\n",
    "print(u\"年齢:\" + str(old))\n",
    "print(u\"識別番号:\" + str(code_no))\n",
    "print(u\"出身地:\" + cityName)"
   ]
  },
  {
   "cell_type": "code",
   "execution_count": 4,
   "metadata": {},
   "outputs": [
    {
     "name": "stdout",
     "output_type": "stream",
     "text": [
      "識別子;佐藤\n",
      "識別子;Katou\n",
      "識別子:204\n"
     ]
    }
   ],
   "source": [
    "# 変数に別のオブジェクトを代入\n",
    "identify = u\"佐藤\"\n",
    "print(u\"識別子;\" + identify)\n",
    "\n",
    "identify = \"Katou\"\n",
    "print(u\"識別子;\" + identify)\n",
    "\n",
    "identify = 204\n",
    "print(u\"識別子:\" + str(identify))"
   ]
  },
  {
   "cell_type": "code",
   "execution_count": 5,
   "metadata": {},
   "outputs": [
    {
     "name": "stdout",
     "output_type": "stream",
     "text": [
      "10 + 8 + 15 =33\n",
      "HelloWorld!\n"
     ]
    }
   ],
   "source": [
    "# 式の中での変数の扱い\n",
    "num1 = 10\n",
    "num2 = 8\n",
    "num3 = 15\n",
    "print(str(num1), \"+\", str(num2), \"+\", str(num3), \"=\" + str(num1 + num2 + num3))\n",
    "\n",
    "msg = \"Hello\"\n",
    "newmsg = msg + \"World!\"\n",
    "\n",
    "print(newmsg)"
   ]
  },
  {
   "cell_type": "code",
   "execution_count": 6,
   "metadata": {},
   "outputs": [
    {
     "name": "stdout",
     "output_type": "stream",
     "text": [
      "num =  8\n",
      "num **= 3 =  512\n"
     ]
    }
   ],
   "source": [
    "# 累算代入文\n",
    "num = 8\n",
    "print(\"num = \" , str(num))\n",
    "num **= 3\n",
    "print(\"num **= 3 = \", str(num))"
   ]
  },
  {
   "cell_type": "code",
   "execution_count": null,
   "metadata": {
    "collapsed": true
   },
   "outputs": [],
   "source": []
  }
 ],
 "metadata": {
  "kernelspec": {
   "display_name": "Python 3",
   "language": "python",
   "name": "python3"
  },
  "language_info": {
   "codemirror_mode": {
    "name": "ipython",
    "version": 3
   },
   "file_extension": ".py",
   "mimetype": "text/x-python",
   "name": "python",
   "nbconvert_exporter": "python",
   "pygments_lexer": "ipython3",
   "version": "3.5.2"
  }
 },
 "nbformat": 4,
 "nbformat_minor": 2
}
