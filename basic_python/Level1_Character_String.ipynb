{
 "cells": [
  {
   "cell_type": "code",
   "execution_count": 3,
   "metadata": {},
   "outputs": [
    {
     "name": "stdout",
     "output_type": "stream",
     "text": [
      "Hello Python!!!!!\n"
     ]
    }
   ],
   "source": [
    "\"\"\"\n",
    "Level1. 文字列(Character String)\n",
    "参考：　http://www.pythonweb.jp/tutorial/string/index1.html\n",
    "\"\"\"\n",
    "print(\"Hello Python!!!!!\")"
   ]
  },
  {
   "cell_type": "code",
   "execution_count": 2,
   "metadata": {},
   "outputs": [
    {
     "name": "stdout",
     "output_type": "stream",
     "text": [
      "Hello!¥nByeBye\n"
     ]
    }
   ],
   "source": [
    "# 改行\n",
    "print(\"Hello!¥nByeBye\")"
   ]
  },
  {
   "cell_type": "code",
   "execution_count": 4,
   "metadata": {},
   "outputs": [
    {
     "name": "stdout",
     "output_type": "stream",
     "text": [
      "PythonWeb\n",
      "テレビ画面\n",
      "西暦2000\n",
      "studyAI\n"
     ]
    }
   ],
   "source": [
    "# 文字列の連結\n",
    "print(\"Python\" + \"Web\")\n",
    "print(\"テレビ\" + \"画面\")\n",
    "print(u\"西暦\" + \"2000\")\n",
    "print(\"study\" + \"AI\")"
   ]
  },
  {
   "cell_type": "code",
   "execution_count": 5,
   "metadata": {},
   "outputs": [
    {
     "name": "stdout",
     "output_type": "stream",
     "text": [
      "----------------------------------------\n",
      "ここからここからここからここからここから\n",
      "--------------------------------------------------------------------------------\n"
     ]
    }
   ],
   "source": [
    "# 文字列の繰り返し\n",
    "print(\"-\" * 40)\n",
    "print(u\"ここから\" * 5)\n",
    "print(\"-\" * 80)"
   ]
  },
  {
   "cell_type": "code",
   "execution_count": 10,
   "metadata": {},
   "outputs": [
    {
     "name": "stdout",
     "output_type": "stream",
     "text": [
      "5\n",
      "5\n"
     ]
    }
   ],
   "source": [
    "# 文字列の長さを取得(len)\n",
    "print(len(\"Hello\"))\n",
    "print(len(u\"こんにちは\"))"
   ]
  },
  {
   "cell_type": "code",
   "execution_count": 7,
   "metadata": {},
   "outputs": [
    {
     "name": "stdout",
     "output_type": "stream",
     "text": [
      "Year2000\n",
      "円周率3.14159\n",
      "<class 'str'>\n",
      "<class 'str'>\n",
      "<class 'int'>\n"
     ]
    },
    {
     "ename": "TypeError",
     "evalue": "Can't convert 'int' object to str implicitly",
     "output_type": "error",
     "traceback": [
      "\u001b[0;31m---------------------------------------------------------------------------\u001b[0m",
      "\u001b[0;31mTypeError\u001b[0m                                 Traceback (most recent call last)",
      "\u001b[0;32m<ipython-input-7-b0c00131e369>\u001b[0m in \u001b[0;36m<module>\u001b[0;34m()\u001b[0m\n\u001b[1;32m      5\u001b[0m \u001b[0mprint\u001b[0m\u001b[0;34m(\u001b[0m\u001b[0mtype\u001b[0m\u001b[0;34m(\u001b[0m\u001b[0;34m\"2000\"\u001b[0m\u001b[0;34m)\u001b[0m\u001b[0;34m)\u001b[0m\u001b[0;34m\u001b[0m\u001b[0m\n\u001b[1;32m      6\u001b[0m \u001b[0mprint\u001b[0m\u001b[0;34m(\u001b[0m\u001b[0mtype\u001b[0m\u001b[0;34m(\u001b[0m\u001b[0;36m2000\u001b[0m\u001b[0;34m)\u001b[0m\u001b[0;34m)\u001b[0m\u001b[0;34m\u001b[0m\u001b[0m\n\u001b[0;32m----> 7\u001b[0;31m \u001b[0mprint\u001b[0m\u001b[0;34m(\u001b[0m\u001b[0;34m\"Year\"\u001b[0m \u001b[0;34m+\u001b[0m \u001b[0;36m2000\u001b[0m\u001b[0;34m)\u001b[0m\u001b[0;34m\u001b[0m\u001b[0m\n\u001b[0m",
      "\u001b[0;31mTypeError\u001b[0m: Can't convert 'int' object to str implicitly"
     ]
    }
   ],
   "source": [
    "# 数値を文字列に変換(str)\n",
    "print(\"Year\" + str(2000))\n",
    "print(u\"円周率\" + str(3.14159))\n",
    "print(type(str(2000)))\n",
    "print(type(\"2000\"))\n",
    "print(type(2000))\n",
    "print(\"Year\" + 2000)"
   ]
  },
  {
   "cell_type": "code",
   "execution_count": 13,
   "metadata": {},
   "outputs": [
    {
     "name": "stdout",
     "output_type": "stream",
     "text": [
      "H\n",
      "e\n",
      "l\n",
      "l\n",
      "o\n",
      "表\n",
      "計\n",
      "算\n"
     ]
    }
   ],
   "source": [
    "# インデックスを指定して要素を取得\n",
    "str = \"Hello\"\n",
    "print(str[0])\n",
    "print(str[1])\n",
    "print(str[2])\n",
    "print(str[3])\n",
    "print(str[4])\n",
    "\n",
    "jpstr = u\"表計算\"\n",
    "print(jpstr[0])\n",
    "print(jpstr[1])\n",
    "print(jpstr[2])"
   ]
  },
  {
   "cell_type": "code",
   "execution_count": 15,
   "metadata": {},
   "outputs": [
    {
     "name": "stdout",
     "output_type": "stream",
     "text": [
      "対象文字列 ABCDE\n",
      "[1:3]  BC\n",
      "[1:-1] BCD\n",
      "[1:]   BCDE\n",
      "[:2]   AB\n",
      "[:]    ABCDE\n"
     ]
    }
   ],
   "source": [
    "# スライスを使った部分文字列の取得\n",
    "str = \"ABCDE\"\n",
    "print(u\"対象文字列 \" + str)\n",
    "print(\"[1:3]  \" + str[1:3])\n",
    "print(\"[1:-1] \" + str[1:-1])\n",
    "print(\"[1:]   \" + str[1:])\n",
    "print(\"[:2]   \" + str[:2])\n",
    "print(\"[:]    \" + str[:])"
   ]
  },
  {
   "cell_type": "code",
   "execution_count": null,
   "metadata": {
    "collapsed": true
   },
   "outputs": [],
   "source": []
  }
 ],
 "metadata": {
  "kernelspec": {
   "display_name": "Python 3",
   "language": "python",
   "name": "python3"
  },
  "language_info": {
   "codemirror_mode": {
    "name": "ipython",
    "version": 3
   },
   "file_extension": ".py",
   "mimetype": "text/x-python",
   "name": "python",
   "nbconvert_exporter": "python",
   "pygments_lexer": "ipython3",
   "version": "3.5.2"
  }
 },
 "nbformat": 4,
 "nbformat_minor": 2
}
